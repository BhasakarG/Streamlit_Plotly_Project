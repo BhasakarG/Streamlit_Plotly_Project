{
 "cells": [
  {
   "cell_type": "markdown",
   "id": "90a45c8d",
   "metadata": {},
   "source": [
    "## code builing, to test before implementing in pycharm"
   ]
  },
  {
   "cell_type": "code",
   "execution_count": 1,
   "id": "ab43c27c",
   "metadata": {},
   "outputs": [],
   "source": [
    "import numpy as np\n",
    "import pandas as pd\n",
    "import plotly.express as px"
   ]
  },
  {
   "cell_type": "code",
   "execution_count": 2,
   "id": "c8247df6",
   "metadata": {},
   "outputs": [
    {
     "data": {
      "text/html": [
       "<div>\n",
       "<style scoped>\n",
       "    .dataframe tbody tr th:only-of-type {\n",
       "        vertical-align: middle;\n",
       "    }\n",
       "\n",
       "    .dataframe tbody tr th {\n",
       "        vertical-align: top;\n",
       "    }\n",
       "\n",
       "    .dataframe thead th {\n",
       "        text-align: right;\n",
       "    }\n",
       "</style>\n",
       "<table border=\"1\" class=\"dataframe\">\n",
       "  <thead>\n",
       "    <tr style=\"text-align: right;\">\n",
       "      <th></th>\n",
       "      <th>State</th>\n",
       "      <th>District</th>\n",
       "      <th>Latitude</th>\n",
       "      <th>Longitude</th>\n",
       "    </tr>\n",
       "  </thead>\n",
       "  <tbody>\n",
       "    <tr>\n",
       "      <th>0</th>\n",
       "      <td>Andaman and Nicobar</td>\n",
       "      <td>Andaman Islands</td>\n",
       "      <td>12.382571</td>\n",
       "      <td>92.822911</td>\n",
       "    </tr>\n",
       "    <tr>\n",
       "      <th>1</th>\n",
       "      <td>Andaman and Nicobar</td>\n",
       "      <td>Nicobar Islands</td>\n",
       "      <td>7.835291</td>\n",
       "      <td>93.511601</td>\n",
       "    </tr>\n",
       "    <tr>\n",
       "      <th>2</th>\n",
       "      <td>Andhra Pradesh</td>\n",
       "      <td>Adilabad</td>\n",
       "      <td>19.284514</td>\n",
       "      <td>78.813212</td>\n",
       "    </tr>\n",
       "    <tr>\n",
       "      <th>3</th>\n",
       "      <td>Andhra Pradesh</td>\n",
       "      <td>Anantapur</td>\n",
       "      <td>14.312066</td>\n",
       "      <td>77.460158</td>\n",
       "    </tr>\n",
       "    <tr>\n",
       "      <th>4</th>\n",
       "      <td>Andhra Pradesh</td>\n",
       "      <td>Chittoor</td>\n",
       "      <td>13.331093</td>\n",
       "      <td>78.927639</td>\n",
       "    </tr>\n",
       "  </tbody>\n",
       "</table>\n",
       "</div>"
      ],
      "text/plain": [
       "                 State         District   Latitude  Longitude\n",
       "0  Andaman and Nicobar  Andaman Islands  12.382571  92.822911\n",
       "1  Andaman and Nicobar  Nicobar Islands   7.835291  93.511601\n",
       "2       Andhra Pradesh         Adilabad  19.284514  78.813212\n",
       "3       Andhra Pradesh        Anantapur  14.312066  77.460158\n",
       "4       Andhra Pradesh         Chittoor  13.331093  78.927639"
      ]
     },
     "execution_count": 2,
     "metadata": {},
     "output_type": "execute_result"
    }
   ],
   "source": [
    "latlong_df = pd.read_csv(\"project_dataset/district wise centroids.csv\")\n",
    "latlong_df.head()"
   ]
  },
  {
   "cell_type": "code",
   "execution_count": 4,
   "id": "91964e56",
   "metadata": {},
   "outputs": [
    {
     "data": {
      "text/plain": [
       "(594, 4)"
      ]
     },
     "execution_count": 4,
     "metadata": {},
     "output_type": "execute_result"
    }
   ],
   "source": [
    "latlong_df.shape"
   ]
  },
  {
   "cell_type": "code",
   "execution_count": 9,
   "id": "2df3ceb8",
   "metadata": {},
   "outputs": [
    {
     "data": {
      "text/plain": [
       "State        0\n",
       "District     0\n",
       "Latitude     0\n",
       "Longitude    0\n",
       "dtype: int64"
      ]
     },
     "execution_count": 9,
     "metadata": {},
     "output_type": "execute_result"
    }
   ],
   "source": [
    "# checking the nulls\n",
    "latlong_df.isnull().sum()"
   ]
  },
  {
   "cell_type": "code",
   "execution_count": 8,
   "id": "8ddd54f8",
   "metadata": {},
   "outputs": [
    {
     "data": {
      "text/plain": [
       "0"
      ]
     },
     "execution_count": 8,
     "metadata": {},
     "output_type": "execute_result"
    }
   ],
   "source": [
    "# checking the duplicated\n",
    "latlong_df.duplicated().sum()"
   ]
  },
  {
   "cell_type": "code",
   "execution_count": 11,
   "id": "e4bfc07a",
   "metadata": {},
   "outputs": [
    {
     "data": {
      "text/html": [
       "<div>\n",
       "<style scoped>\n",
       "    .dataframe tbody tr th:only-of-type {\n",
       "        vertical-align: middle;\n",
       "    }\n",
       "\n",
       "    .dataframe tbody tr th {\n",
       "        vertical-align: top;\n",
       "    }\n",
       "\n",
       "    .dataframe thead th {\n",
       "        text-align: right;\n",
       "    }\n",
       "</style>\n",
       "<table border=\"1\" class=\"dataframe\">\n",
       "  <thead>\n",
       "    <tr style=\"text-align: right;\">\n",
       "      <th></th>\n",
       "      <th>District code</th>\n",
       "      <th>State name</th>\n",
       "      <th>District name</th>\n",
       "      <th>Population</th>\n",
       "      <th>Male</th>\n",
       "      <th>Female</th>\n",
       "      <th>Literate</th>\n",
       "      <th>Male_Literate</th>\n",
       "      <th>Female_Literate</th>\n",
       "      <th>SC</th>\n",
       "      <th>...</th>\n",
       "      <th>Power_Parity_Rs_90000_150000</th>\n",
       "      <th>Power_Parity_Rs_45000_150000</th>\n",
       "      <th>Power_Parity_Rs_150000_240000</th>\n",
       "      <th>Power_Parity_Rs_240000_330000</th>\n",
       "      <th>Power_Parity_Rs_150000_330000</th>\n",
       "      <th>Power_Parity_Rs_330000_425000</th>\n",
       "      <th>Power_Parity_Rs_425000_545000</th>\n",
       "      <th>Power_Parity_Rs_330000_545000</th>\n",
       "      <th>Power_Parity_Above_Rs_545000</th>\n",
       "      <th>Total_Power_Parity</th>\n",
       "    </tr>\n",
       "  </thead>\n",
       "  <tbody>\n",
       "    <tr>\n",
       "      <th>0</th>\n",
       "      <td>1</td>\n",
       "      <td>JAMMU AND KASHMIR</td>\n",
       "      <td>Kupwara</td>\n",
       "      <td>870354</td>\n",
       "      <td>474190</td>\n",
       "      <td>396164</td>\n",
       "      <td>439654</td>\n",
       "      <td>282823</td>\n",
       "      <td>156831</td>\n",
       "      <td>1048</td>\n",
       "      <td>...</td>\n",
       "      <td>94</td>\n",
       "      <td>588</td>\n",
       "      <td>71</td>\n",
       "      <td>101</td>\n",
       "      <td>172</td>\n",
       "      <td>74</td>\n",
       "      <td>10</td>\n",
       "      <td>84</td>\n",
       "      <td>15</td>\n",
       "      <td>1119</td>\n",
       "    </tr>\n",
       "    <tr>\n",
       "      <th>1</th>\n",
       "      <td>2</td>\n",
       "      <td>JAMMU AND KASHMIR</td>\n",
       "      <td>Badgam</td>\n",
       "      <td>753745</td>\n",
       "      <td>398041</td>\n",
       "      <td>355704</td>\n",
       "      <td>335649</td>\n",
       "      <td>207741</td>\n",
       "      <td>127908</td>\n",
       "      <td>368</td>\n",
       "      <td>...</td>\n",
       "      <td>126</td>\n",
       "      <td>562</td>\n",
       "      <td>72</td>\n",
       "      <td>89</td>\n",
       "      <td>161</td>\n",
       "      <td>96</td>\n",
       "      <td>28</td>\n",
       "      <td>124</td>\n",
       "      <td>18</td>\n",
       "      <td>1066</td>\n",
       "    </tr>\n",
       "  </tbody>\n",
       "</table>\n",
       "<p>2 rows × 118 columns</p>\n",
       "</div>"
      ],
      "text/plain": [
       "   District code         State name District name  Population    Male  Female  \\\n",
       "0              1  JAMMU AND KASHMIR       Kupwara      870354  474190  396164   \n",
       "1              2  JAMMU AND KASHMIR        Badgam      753745  398041  355704   \n",
       "\n",
       "   Literate  Male_Literate  Female_Literate    SC  ...  \\\n",
       "0    439654         282823           156831  1048  ...   \n",
       "1    335649         207741           127908   368  ...   \n",
       "\n",
       "   Power_Parity_Rs_90000_150000  Power_Parity_Rs_45000_150000  \\\n",
       "0                            94                           588   \n",
       "1                           126                           562   \n",
       "\n",
       "   Power_Parity_Rs_150000_240000  Power_Parity_Rs_240000_330000  \\\n",
       "0                             71                            101   \n",
       "1                             72                             89   \n",
       "\n",
       "   Power_Parity_Rs_150000_330000  Power_Parity_Rs_330000_425000  \\\n",
       "0                            172                             74   \n",
       "1                            161                             96   \n",
       "\n",
       "   Power_Parity_Rs_425000_545000  Power_Parity_Rs_330000_545000  \\\n",
       "0                             10                             84   \n",
       "1                             28                            124   \n",
       "\n",
       "   Power_Parity_Above_Rs_545000  Total_Power_Parity  \n",
       "0                            15                1119  \n",
       "1                            18                1066  \n",
       "\n",
       "[2 rows x 118 columns]"
      ]
     },
     "execution_count": 11,
     "metadata": {},
     "output_type": "execute_result"
    }
   ],
   "source": [
    "census_2011_df = pd.read_csv(\"project_dataset/india-districts-census-2011.csv\")\n",
    "census_2011_df.head(2)"
   ]
  },
  {
   "cell_type": "code",
   "execution_count": 12,
   "id": "4d397c55",
   "metadata": {},
   "outputs": [
    {
     "data": {
      "text/plain": [
       "District code                    0\n",
       "State name                       0\n",
       "District name                    0\n",
       "Population                       0\n",
       "Male                             0\n",
       "                                ..\n",
       "Power_Parity_Rs_330000_425000    0\n",
       "Power_Parity_Rs_425000_545000    0\n",
       "Power_Parity_Rs_330000_545000    0\n",
       "Power_Parity_Above_Rs_545000     0\n",
       "Total_Power_Parity               0\n",
       "Length: 118, dtype: int64"
      ]
     },
     "execution_count": 12,
     "metadata": {},
     "output_type": "execute_result"
    }
   ],
   "source": [
    "census_2011_df.isnull().sum()"
   ]
  },
  {
   "cell_type": "code",
   "execution_count": 13,
   "id": "0723d172",
   "metadata": {},
   "outputs": [
    {
     "data": {
      "text/plain": [
       "0"
      ]
     },
     "execution_count": 13,
     "metadata": {},
     "output_type": "execute_result"
    }
   ],
   "source": [
    "census_2011_df.duplicated().sum()"
   ]
  },
  {
   "cell_type": "code",
   "execution_count": 38,
   "id": "6117dd0c",
   "metadata": {},
   "outputs": [
    {
     "data": {
      "text/html": [
       "<div>\n",
       "<style scoped>\n",
       "    .dataframe tbody tr th:only-of-type {\n",
       "        vertical-align: middle;\n",
       "    }\n",
       "\n",
       "    .dataframe tbody tr th {\n",
       "        vertical-align: top;\n",
       "    }\n",
       "\n",
       "    .dataframe thead th {\n",
       "        text-align: right;\n",
       "    }\n",
       "</style>\n",
       "<table border=\"1\" class=\"dataframe\">\n",
       "  <thead>\n",
       "    <tr style=\"text-align: right;\">\n",
       "      <th></th>\n",
       "      <th>District code</th>\n",
       "      <th>State name</th>\n",
       "      <th>District name</th>\n",
       "      <th>Population</th>\n",
       "      <th>Male</th>\n",
       "      <th>Female</th>\n",
       "      <th>Literate</th>\n",
       "      <th>Male_Literate</th>\n",
       "      <th>Female_Literate</th>\n",
       "      <th>SC</th>\n",
       "      <th>...</th>\n",
       "      <th>Power_Parity_Rs_90000_150000</th>\n",
       "      <th>Power_Parity_Rs_45000_150000</th>\n",
       "      <th>Power_Parity_Rs_150000_240000</th>\n",
       "      <th>Power_Parity_Rs_240000_330000</th>\n",
       "      <th>Power_Parity_Rs_150000_330000</th>\n",
       "      <th>Power_Parity_Rs_330000_425000</th>\n",
       "      <th>Power_Parity_Rs_425000_545000</th>\n",
       "      <th>Power_Parity_Rs_330000_545000</th>\n",
       "      <th>Power_Parity_Above_Rs_545000</th>\n",
       "      <th>Total_Power_Parity</th>\n",
       "    </tr>\n",
       "  </thead>\n",
       "  <tbody>\n",
       "    <tr>\n",
       "      <th>0</th>\n",
       "      <td>1</td>\n",
       "      <td>JAMMU AND KASHMIR</td>\n",
       "      <td>Kupwara</td>\n",
       "      <td>870354</td>\n",
       "      <td>474190</td>\n",
       "      <td>396164</td>\n",
       "      <td>439654</td>\n",
       "      <td>282823</td>\n",
       "      <td>156831</td>\n",
       "      <td>1048</td>\n",
       "      <td>...</td>\n",
       "      <td>94</td>\n",
       "      <td>588</td>\n",
       "      <td>71</td>\n",
       "      <td>101</td>\n",
       "      <td>172</td>\n",
       "      <td>74</td>\n",
       "      <td>10</td>\n",
       "      <td>84</td>\n",
       "      <td>15</td>\n",
       "      <td>1119</td>\n",
       "    </tr>\n",
       "  </tbody>\n",
       "</table>\n",
       "<p>1 rows × 118 columns</p>\n",
       "</div>"
      ],
      "text/plain": [
       "   District code         State name District name  Population    Male  Female  \\\n",
       "0              1  JAMMU AND KASHMIR       Kupwara      870354  474190  396164   \n",
       "\n",
       "   Literate  Male_Literate  Female_Literate    SC  ...  \\\n",
       "0    439654         282823           156831  1048  ...   \n",
       "\n",
       "   Power_Parity_Rs_90000_150000  Power_Parity_Rs_45000_150000  \\\n",
       "0                            94                           588   \n",
       "\n",
       "   Power_Parity_Rs_150000_240000  Power_Parity_Rs_240000_330000  \\\n",
       "0                             71                            101   \n",
       "\n",
       "   Power_Parity_Rs_150000_330000  Power_Parity_Rs_330000_425000  \\\n",
       "0                            172                             74   \n",
       "\n",
       "   Power_Parity_Rs_425000_545000  Power_Parity_Rs_330000_545000  \\\n",
       "0                             10                             84   \n",
       "\n",
       "   Power_Parity_Above_Rs_545000  Total_Power_Parity  \n",
       "0                            15                1119  \n",
       "\n",
       "[1 rows x 118 columns]"
      ]
     },
     "execution_count": 38,
     "metadata": {},
     "output_type": "execute_result"
    }
   ],
   "source": [
    "census_2011_df[census_2011_df['District code'] == 1]"
   ]
  },
  {
   "cell_type": "code",
   "execution_count": 39,
   "id": "f3820963",
   "metadata": {},
   "outputs": [],
   "source": [
    "# take a few columns in census_2011 for building the project\n",
    "cencus_col = ['District code','District name','Population',\n",
    "              'Male','Female', 'Literate', \n",
    "              'Male_Literate', 'Female_Literate','Cultivator_Workers',\n",
    "             'Agricultural_Workers',\n",
    "             'Households_with_Internet','Housholds_with_Electric_Lighting',\n",
    "             'Having_latrine_facility_within_the_premises_Total_Households',\n",
    "             'Not_having_latrine_facility_within_the_premises_Alternative_source_Open_Households',\n",
    "             'Total_Power_Parity']\n"
   ]
  },
  {
   "cell_type": "code",
   "execution_count": 42,
   "id": "c678026d",
   "metadata": {},
   "outputs": [
    {
     "data": {
      "text/html": [
       "<div>\n",
       "<style scoped>\n",
       "    .dataframe tbody tr th:only-of-type {\n",
       "        vertical-align: middle;\n",
       "    }\n",
       "\n",
       "    .dataframe tbody tr th {\n",
       "        vertical-align: top;\n",
       "    }\n",
       "\n",
       "    .dataframe thead th {\n",
       "        text-align: right;\n",
       "    }\n",
       "</style>\n",
       "<table border=\"1\" class=\"dataframe\">\n",
       "  <thead>\n",
       "    <tr style=\"text-align: right;\">\n",
       "      <th></th>\n",
       "      <th>District code</th>\n",
       "      <th>District name</th>\n",
       "      <th>Population</th>\n",
       "      <th>Male</th>\n",
       "      <th>Female</th>\n",
       "      <th>Literate</th>\n",
       "      <th>Male_Literate</th>\n",
       "      <th>Female_Literate</th>\n",
       "      <th>Cultivator_Workers</th>\n",
       "      <th>Agricultural_Workers</th>\n",
       "      <th>Households_with_Internet</th>\n",
       "      <th>Housholds_with_Electric_Lighting</th>\n",
       "      <th>Having_latrine_facility_within_the_premises_Total_Households</th>\n",
       "      <th>Not_having_latrine_facility_within_the_premises_Alternative_source_Open_Households</th>\n",
       "      <th>Total_Power_Parity</th>\n",
       "    </tr>\n",
       "  </thead>\n",
       "  <tbody>\n",
       "    <tr>\n",
       "      <th>0</th>\n",
       "      <td>1</td>\n",
       "      <td>Kupwara</td>\n",
       "      <td>870354</td>\n",
       "      <td>474190</td>\n",
       "      <td>396164</td>\n",
       "      <td>439654</td>\n",
       "      <td>282823</td>\n",
       "      <td>156831</td>\n",
       "      <td>34680</td>\n",
       "      <td>56759</td>\n",
       "      <td>762</td>\n",
       "      <td>83071</td>\n",
       "      <td>54335</td>\n",
       "      <td>44123</td>\n",
       "      <td>1119</td>\n",
       "    </tr>\n",
       "    <tr>\n",
       "      <th>1</th>\n",
       "      <td>2</td>\n",
       "      <td>Badgam</td>\n",
       "      <td>753745</td>\n",
       "      <td>398041</td>\n",
       "      <td>355704</td>\n",
       "      <td>335649</td>\n",
       "      <td>207741</td>\n",
       "      <td>127908</td>\n",
       "      <td>55299</td>\n",
       "      <td>36630</td>\n",
       "      <td>1999</td>\n",
       "      <td>90190</td>\n",
       "      <td>83615</td>\n",
       "      <td>10642</td>\n",
       "      <td>1066</td>\n",
       "    </tr>\n",
       "  </tbody>\n",
       "</table>\n",
       "</div>"
      ],
      "text/plain": [
       "   District code District name  Population    Male  Female  Literate  \\\n",
       "0              1       Kupwara      870354  474190  396164    439654   \n",
       "1              2        Badgam      753745  398041  355704    335649   \n",
       "\n",
       "   Male_Literate  Female_Literate  Cultivator_Workers  Agricultural_Workers  \\\n",
       "0         282823           156831               34680                 56759   \n",
       "1         207741           127908               55299                 36630   \n",
       "\n",
       "   Households_with_Internet  Housholds_with_Electric_Lighting  \\\n",
       "0                       762                             83071   \n",
       "1                      1999                             90190   \n",
       "\n",
       "   Having_latrine_facility_within_the_premises_Total_Households  \\\n",
       "0                                              54335              \n",
       "1                                              83615              \n",
       "\n",
       "   Not_having_latrine_facility_within_the_premises_Alternative_source_Open_Households  \\\n",
       "0                                              44123                                    \n",
       "1                                              10642                                    \n",
       "\n",
       "   Total_Power_Parity  \n",
       "0                1119  \n",
       "1                1066  "
      ]
     },
     "execution_count": 42,
     "metadata": {},
     "output_type": "execute_result"
    }
   ],
   "source": [
    "census_2011_df = census_2011_df[cencus_col]\n",
    "census_2011_df.head(2)"
   ]
  },
  {
   "cell_type": "code",
   "execution_count": 43,
   "id": "7889bc81",
   "metadata": {},
   "outputs": [
    {
     "data": {
      "text/html": [
       "<div>\n",
       "<style scoped>\n",
       "    .dataframe tbody tr th:only-of-type {\n",
       "        vertical-align: middle;\n",
       "    }\n",
       "\n",
       "    .dataframe tbody tr th {\n",
       "        vertical-align: top;\n",
       "    }\n",
       "\n",
       "    .dataframe thead th {\n",
       "        text-align: right;\n",
       "    }\n",
       "</style>\n",
       "<table border=\"1\" class=\"dataframe\">\n",
       "  <thead>\n",
       "    <tr style=\"text-align: right;\">\n",
       "      <th></th>\n",
       "      <th>State</th>\n",
       "      <th>District</th>\n",
       "      <th>Latitude</th>\n",
       "      <th>Longitude</th>\n",
       "    </tr>\n",
       "  </thead>\n",
       "  <tbody>\n",
       "    <tr>\n",
       "      <th>0</th>\n",
       "      <td>Andaman and Nicobar</td>\n",
       "      <td>Andaman Islands</td>\n",
       "      <td>12.382571</td>\n",
       "      <td>92.822911</td>\n",
       "    </tr>\n",
       "    <tr>\n",
       "      <th>1</th>\n",
       "      <td>Andaman and Nicobar</td>\n",
       "      <td>Nicobar Islands</td>\n",
       "      <td>7.835291</td>\n",
       "      <td>93.511601</td>\n",
       "    </tr>\n",
       "  </tbody>\n",
       "</table>\n",
       "</div>"
      ],
      "text/plain": [
       "                 State         District   Latitude  Longitude\n",
       "0  Andaman and Nicobar  Andaman Islands  12.382571  92.822911\n",
       "1  Andaman and Nicobar  Nicobar Islands   7.835291  93.511601"
      ]
     },
     "execution_count": 43,
     "metadata": {},
     "output_type": "execute_result"
    }
   ],
   "source": [
    "latlong_df.head(2)"
   ]
  },
  {
   "cell_type": "code",
   "execution_count": 47,
   "id": "c27f099b",
   "metadata": {},
   "outputs": [
    {
     "data": {
      "text/html": [
       "<div>\n",
       "<style scoped>\n",
       "    .dataframe tbody tr th:only-of-type {\n",
       "        vertical-align: middle;\n",
       "    }\n",
       "\n",
       "    .dataframe tbody tr th {\n",
       "        vertical-align: top;\n",
       "    }\n",
       "\n",
       "    .dataframe thead th {\n",
       "        text-align: right;\n",
       "    }\n",
       "</style>\n",
       "<table border=\"1\" class=\"dataframe\">\n",
       "  <thead>\n",
       "    <tr style=\"text-align: right;\">\n",
       "      <th></th>\n",
       "      <th>State</th>\n",
       "      <th>Latitude</th>\n",
       "      <th>Longitude</th>\n",
       "      <th>District code</th>\n",
       "      <th>District name</th>\n",
       "      <th>Population</th>\n",
       "      <th>Male</th>\n",
       "      <th>Female</th>\n",
       "      <th>Literate</th>\n",
       "      <th>Male_Literate</th>\n",
       "      <th>Female_Literate</th>\n",
       "      <th>Cultivator_Workers</th>\n",
       "      <th>Agricultural_Workers</th>\n",
       "      <th>Households_with_Internet</th>\n",
       "      <th>Housholds_with_Electric_Lighting</th>\n",
       "      <th>Having_latrine_facility_within_the_premises_Total_Households</th>\n",
       "      <th>Not_having_latrine_facility_within_the_premises_Alternative_source_Open_Households</th>\n",
       "      <th>Total_Power_Parity</th>\n",
       "    </tr>\n",
       "  </thead>\n",
       "  <tbody>\n",
       "    <tr>\n",
       "      <th>422</th>\n",
       "      <td>Tamil Nadu</td>\n",
       "      <td>10.387692</td>\n",
       "      <td>79.319487</td>\n",
       "      <td>620</td>\n",
       "      <td>Thanjavur</td>\n",
       "      <td>2405890</td>\n",
       "      <td>1182416</td>\n",
       "      <td>1223474</td>\n",
       "      <td>1790998</td>\n",
       "      <td>944264</td>\n",
       "      <td>846734</td>\n",
       "      <td>129913</td>\n",
       "      <td>415361</td>\n",
       "      <td>13495</td>\n",
       "      <td>555582</td>\n",
       "      <td>272623</td>\n",
       "      <td>307799</td>\n",
       "      <td>4914</td>\n",
       "    </tr>\n",
       "    <tr>\n",
       "      <th>120</th>\n",
       "      <td>Gujarat</td>\n",
       "      <td>23.193680</td>\n",
       "      <td>72.672217</td>\n",
       "      <td>473</td>\n",
       "      <td>Gandhinagar</td>\n",
       "      <td>1391753</td>\n",
       "      <td>723864</td>\n",
       "      <td>667889</td>\n",
       "      <td>1030494</td>\n",
       "      <td>582686</td>\n",
       "      <td>447808</td>\n",
       "      <td>104147</td>\n",
       "      <td>129356</td>\n",
       "      <td>12107</td>\n",
       "      <td>262539</td>\n",
       "      <td>171166</td>\n",
       "      <td>111761</td>\n",
       "      <td>6016</td>\n",
       "    </tr>\n",
       "    <tr>\n",
       "      <th>258</th>\n",
       "      <td>Madhya Pradesh</td>\n",
       "      <td>23.785499</td>\n",
       "      <td>76.664312</td>\n",
       "      <td>442</td>\n",
       "      <td>Rajgarh</td>\n",
       "      <td>1545814</td>\n",
       "      <td>790212</td>\n",
       "      <td>755602</td>\n",
       "      <td>804245</td>\n",
       "      <td>488797</td>\n",
       "      <td>315448</td>\n",
       "      <td>285095</td>\n",
       "      <td>330820</td>\n",
       "      <td>1611</td>\n",
       "      <td>231130</td>\n",
       "      <td>54463</td>\n",
       "      <td>285614</td>\n",
       "      <td>1629</td>\n",
       "    </tr>\n",
       "  </tbody>\n",
       "</table>\n",
       "</div>"
      ],
      "text/plain": [
       "              State   Latitude  Longitude  District code District name  \\\n",
       "422      Tamil Nadu  10.387692  79.319487            620     Thanjavur   \n",
       "120         Gujarat  23.193680  72.672217            473   Gandhinagar   \n",
       "258  Madhya Pradesh  23.785499  76.664312            442       Rajgarh   \n",
       "\n",
       "     Population     Male   Female  Literate  Male_Literate  Female_Literate  \\\n",
       "422     2405890  1182416  1223474   1790998         944264           846734   \n",
       "120     1391753   723864   667889   1030494         582686           447808   \n",
       "258     1545814   790212   755602    804245         488797           315448   \n",
       "\n",
       "     Cultivator_Workers  Agricultural_Workers  Households_with_Internet  \\\n",
       "422              129913                415361                     13495   \n",
       "120              104147                129356                     12107   \n",
       "258              285095                330820                      1611   \n",
       "\n",
       "     Housholds_with_Electric_Lighting  \\\n",
       "422                            555582   \n",
       "120                            262539   \n",
       "258                            231130   \n",
       "\n",
       "     Having_latrine_facility_within_the_premises_Total_Households  \\\n",
       "422                                             272623              \n",
       "120                                             171166              \n",
       "258                                              54463              \n",
       "\n",
       "     Not_having_latrine_facility_within_the_premises_Alternative_source_Open_Households  \\\n",
       "422                                             307799                                    \n",
       "120                                             111761                                    \n",
       "258                                             285614                                    \n",
       "\n",
       "     Total_Power_Parity  \n",
       "422                4914  \n",
       "120                6016  \n",
       "258                1629  "
      ]
     },
     "execution_count": 47,
     "metadata": {},
     "output_type": "execute_result"
    }
   ],
   "source": [
    "# now merge latlong DF with census_2011_df\n",
    "final_df = latlong_df.merge(census_2011_df,left_on='District',right_on='District name').drop(columns='District')\n",
    "final_df.sample(3)"
   ]
  },
  {
   "cell_type": "code",
   "execution_count": 60,
   "id": "2d7ba832",
   "metadata": {},
   "outputs": [
    {
     "data": {
      "text/html": [
       "<div>\n",
       "<style scoped>\n",
       "    .dataframe tbody tr th:only-of-type {\n",
       "        vertical-align: middle;\n",
       "    }\n",
       "\n",
       "    .dataframe tbody tr th {\n",
       "        vertical-align: top;\n",
       "    }\n",
       "\n",
       "    .dataframe thead th {\n",
       "        text-align: right;\n",
       "    }\n",
       "</style>\n",
       "<table border=\"1\" class=\"dataframe\">\n",
       "  <thead>\n",
       "    <tr style=\"text-align: right;\">\n",
       "      <th></th>\n",
       "      <th>State</th>\n",
       "      <th>Latitude</th>\n",
       "      <th>Longitude</th>\n",
       "      <th>District code</th>\n",
       "      <th>District name</th>\n",
       "      <th>Population</th>\n",
       "      <th>Male</th>\n",
       "      <th>Female</th>\n",
       "      <th>Literate</th>\n",
       "      <th>Male_Literate</th>\n",
       "      <th>...</th>\n",
       "      <th>Cultivator_Workers</th>\n",
       "      <th>Agricultural_Workers</th>\n",
       "      <th>Households_with_Internet</th>\n",
       "      <th>Housholds_with_Electric_Lighting</th>\n",
       "      <th>Having_latrine_facility_within_the_premises_Total_Households</th>\n",
       "      <th>Not_having_latrine_facility_within_the_premises_Alternative_source_Open_Households</th>\n",
       "      <th>Total_Power_Parity</th>\n",
       "      <th>Sex Ration</th>\n",
       "      <th>Literate Ratio</th>\n",
       "      <th>Sex Ratio</th>\n",
       "    </tr>\n",
       "  </thead>\n",
       "  <tbody>\n",
       "    <tr>\n",
       "      <th>0</th>\n",
       "      <td>Andhra Pradesh</td>\n",
       "      <td>19.284514</td>\n",
       "      <td>78.813212</td>\n",
       "      <td>532</td>\n",
       "      <td>Adilabad</td>\n",
       "      <td>2741239</td>\n",
       "      <td>1369597</td>\n",
       "      <td>1371642</td>\n",
       "      <td>1483347</td>\n",
       "      <td>856350</td>\n",
       "      <td>...</td>\n",
       "      <td>363737</td>\n",
       "      <td>484912</td>\n",
       "      <td>5512</td>\n",
       "      <td>566108</td>\n",
       "      <td>191052</td>\n",
       "      <td>446014</td>\n",
       "      <td>4181</td>\n",
       "      <td>1001.0</td>\n",
       "      <td>54.0</td>\n",
       "      <td>1001.0</td>\n",
       "    </tr>\n",
       "    <tr>\n",
       "      <th>1</th>\n",
       "      <td>Andhra Pradesh</td>\n",
       "      <td>14.312066</td>\n",
       "      <td>77.460158</td>\n",
       "      <td>553</td>\n",
       "      <td>Anantapur</td>\n",
       "      <td>4081148</td>\n",
       "      <td>2064495</td>\n",
       "      <td>2016653</td>\n",
       "      <td>2310960</td>\n",
       "      <td>1338474</td>\n",
       "      <td>...</td>\n",
       "      <td>413253</td>\n",
       "      <td>879537</td>\n",
       "      <td>8606</td>\n",
       "      <td>897970</td>\n",
       "      <td>353948</td>\n",
       "      <td>581051</td>\n",
       "      <td>5799</td>\n",
       "      <td>977.0</td>\n",
       "      <td>57.0</td>\n",
       "      <td>977.0</td>\n",
       "    </tr>\n",
       "    <tr>\n",
       "      <th>2</th>\n",
       "      <td>Andhra Pradesh</td>\n",
       "      <td>13.331093</td>\n",
       "      <td>78.927639</td>\n",
       "      <td>554</td>\n",
       "      <td>Chittoor</td>\n",
       "      <td>4174064</td>\n",
       "      <td>2090204</td>\n",
       "      <td>2083860</td>\n",
       "      <td>2667878</td>\n",
       "      <td>1484794</td>\n",
       "      <td>...</td>\n",
       "      <td>434544</td>\n",
       "      <td>748093</td>\n",
       "      <td>13763</td>\n",
       "      <td>944555</td>\n",
       "      <td>382377</td>\n",
       "      <td>628364</td>\n",
       "      <td>5926</td>\n",
       "      <td>997.0</td>\n",
       "      <td>64.0</td>\n",
       "      <td>997.0</td>\n",
       "    </tr>\n",
       "  </tbody>\n",
       "</table>\n",
       "<p>3 rows × 21 columns</p>\n",
       "</div>"
      ],
      "text/plain": [
       "            State   Latitude  Longitude  District code District name  \\\n",
       "0  Andhra Pradesh  19.284514  78.813212            532      Adilabad   \n",
       "1  Andhra Pradesh  14.312066  77.460158            553     Anantapur   \n",
       "2  Andhra Pradesh  13.331093  78.927639            554      Chittoor   \n",
       "\n",
       "   Population     Male   Female  Literate  Male_Literate  ...  \\\n",
       "0     2741239  1369597  1371642   1483347         856350  ...   \n",
       "1     4081148  2064495  2016653   2310960        1338474  ...   \n",
       "2     4174064  2090204  2083860   2667878        1484794  ...   \n",
       "\n",
       "   Cultivator_Workers  Agricultural_Workers  Households_with_Internet  \\\n",
       "0              363737                484912                      5512   \n",
       "1              413253                879537                      8606   \n",
       "2              434544                748093                     13763   \n",
       "\n",
       "   Housholds_with_Electric_Lighting  \\\n",
       "0                            566108   \n",
       "1                            897970   \n",
       "2                            944555   \n",
       "\n",
       "   Having_latrine_facility_within_the_premises_Total_Households  \\\n",
       "0                                             191052              \n",
       "1                                             353948              \n",
       "2                                             382377              \n",
       "\n",
       "   Not_having_latrine_facility_within_the_premises_Alternative_source_Open_Households  \\\n",
       "0                                             446014                                    \n",
       "1                                             581051                                    \n",
       "2                                             628364                                    \n",
       "\n",
       "   Total_Power_Parity  Sex Ration  Literate Ratio  Sex Ratio  \n",
       "0                4181      1001.0            54.0     1001.0  \n",
       "1                5799       977.0            57.0      977.0  \n",
       "2                5926       997.0            64.0      997.0  \n",
       "\n",
       "[3 rows x 21 columns]"
      ]
     },
     "execution_count": 60,
     "metadata": {},
     "output_type": "execute_result"
    }
   ],
   "source": [
    "# now calculate sex ratio, and add as a new column\n",
    "# Sex ratio=(Female Population)*1000/(Male Population)\n",
    "# => number of females per thousand males\n",
    "\n",
    "final_df['Sex Ratio'] = round((final_df['Female']*1000 / final_df['Male']))\n",
    "final_df.head(3)"
   ]
  },
  {
   "cell_type": "code",
   "execution_count": 63,
   "id": "37047814",
   "metadata": {},
   "outputs": [],
   "source": [
    "#final_df.drop(columns='Sex Ration',inplace=True)"
   ]
  },
  {
   "cell_type": "code",
   "execution_count": 62,
   "id": "2af29eeb",
   "metadata": {},
   "outputs": [
    {
     "data": {
      "text/html": [
       "<div>\n",
       "<style scoped>\n",
       "    .dataframe tbody tr th:only-of-type {\n",
       "        vertical-align: middle;\n",
       "    }\n",
       "\n",
       "    .dataframe tbody tr th {\n",
       "        vertical-align: top;\n",
       "    }\n",
       "\n",
       "    .dataframe thead th {\n",
       "        text-align: right;\n",
       "    }\n",
       "</style>\n",
       "<table border=\"1\" class=\"dataframe\">\n",
       "  <thead>\n",
       "    <tr style=\"text-align: right;\">\n",
       "      <th></th>\n",
       "      <th>State</th>\n",
       "      <th>Latitude</th>\n",
       "      <th>Longitude</th>\n",
       "      <th>District code</th>\n",
       "      <th>District name</th>\n",
       "      <th>Population</th>\n",
       "      <th>Male</th>\n",
       "      <th>Female</th>\n",
       "      <th>Literate</th>\n",
       "      <th>Male_Literate</th>\n",
       "      <th>Female_Literate</th>\n",
       "      <th>Cultivator_Workers</th>\n",
       "      <th>Agricultural_Workers</th>\n",
       "      <th>Households_with_Internet</th>\n",
       "      <th>Housholds_with_Electric_Lighting</th>\n",
       "      <th>Having_latrine_facility_within_the_premises_Total_Households</th>\n",
       "      <th>Not_having_latrine_facility_within_the_premises_Alternative_source_Open_Households</th>\n",
       "      <th>Total_Power_Parity</th>\n",
       "      <th>Literate Ratio</th>\n",
       "      <th>Sex Ratio</th>\n",
       "    </tr>\n",
       "  </thead>\n",
       "  <tbody>\n",
       "    <tr>\n",
       "      <th>0</th>\n",
       "      <td>Andhra Pradesh</td>\n",
       "      <td>19.284514</td>\n",
       "      <td>78.813212</td>\n",
       "      <td>532</td>\n",
       "      <td>Adilabad</td>\n",
       "      <td>2741239</td>\n",
       "      <td>1369597</td>\n",
       "      <td>1371642</td>\n",
       "      <td>1483347</td>\n",
       "      <td>856350</td>\n",
       "      <td>626997</td>\n",
       "      <td>363737</td>\n",
       "      <td>484912</td>\n",
       "      <td>5512</td>\n",
       "      <td>566108</td>\n",
       "      <td>191052</td>\n",
       "      <td>446014</td>\n",
       "      <td>4181</td>\n",
       "      <td>54.0</td>\n",
       "      <td>1001.0</td>\n",
       "    </tr>\n",
       "    <tr>\n",
       "      <th>1</th>\n",
       "      <td>Andhra Pradesh</td>\n",
       "      <td>14.312066</td>\n",
       "      <td>77.460158</td>\n",
       "      <td>553</td>\n",
       "      <td>Anantapur</td>\n",
       "      <td>4081148</td>\n",
       "      <td>2064495</td>\n",
       "      <td>2016653</td>\n",
       "      <td>2310960</td>\n",
       "      <td>1338474</td>\n",
       "      <td>972486</td>\n",
       "      <td>413253</td>\n",
       "      <td>879537</td>\n",
       "      <td>8606</td>\n",
       "      <td>897970</td>\n",
       "      <td>353948</td>\n",
       "      <td>581051</td>\n",
       "      <td>5799</td>\n",
       "      <td>57.0</td>\n",
       "      <td>977.0</td>\n",
       "    </tr>\n",
       "    <tr>\n",
       "      <th>2</th>\n",
       "      <td>Andhra Pradesh</td>\n",
       "      <td>13.331093</td>\n",
       "      <td>78.927639</td>\n",
       "      <td>554</td>\n",
       "      <td>Chittoor</td>\n",
       "      <td>4174064</td>\n",
       "      <td>2090204</td>\n",
       "      <td>2083860</td>\n",
       "      <td>2667878</td>\n",
       "      <td>1484794</td>\n",
       "      <td>1183084</td>\n",
       "      <td>434544</td>\n",
       "      <td>748093</td>\n",
       "      <td>13763</td>\n",
       "      <td>944555</td>\n",
       "      <td>382377</td>\n",
       "      <td>628364</td>\n",
       "      <td>5926</td>\n",
       "      <td>64.0</td>\n",
       "      <td>997.0</td>\n",
       "    </tr>\n",
       "  </tbody>\n",
       "</table>\n",
       "</div>"
      ],
      "text/plain": [
       "            State   Latitude  Longitude  District code District name  \\\n",
       "0  Andhra Pradesh  19.284514  78.813212            532      Adilabad   \n",
       "1  Andhra Pradesh  14.312066  77.460158            553     Anantapur   \n",
       "2  Andhra Pradesh  13.331093  78.927639            554      Chittoor   \n",
       "\n",
       "   Population     Male   Female  Literate  Male_Literate  Female_Literate  \\\n",
       "0     2741239  1369597  1371642   1483347         856350           626997   \n",
       "1     4081148  2064495  2016653   2310960        1338474           972486   \n",
       "2     4174064  2090204  2083860   2667878        1484794          1183084   \n",
       "\n",
       "   Cultivator_Workers  Agricultural_Workers  Households_with_Internet  \\\n",
       "0              363737                484912                      5512   \n",
       "1              413253                879537                      8606   \n",
       "2              434544                748093                     13763   \n",
       "\n",
       "   Housholds_with_Electric_Lighting  \\\n",
       "0                            566108   \n",
       "1                            897970   \n",
       "2                            944555   \n",
       "\n",
       "   Having_latrine_facility_within_the_premises_Total_Households  \\\n",
       "0                                             191052              \n",
       "1                                             353948              \n",
       "2                                             382377              \n",
       "\n",
       "   Not_having_latrine_facility_within_the_premises_Alternative_source_Open_Households  \\\n",
       "0                                             446014                                    \n",
       "1                                             581051                                    \n",
       "2                                             628364                                    \n",
       "\n",
       "   Total_Power_Parity  Literate Ratio  Sex Ratio  \n",
       "0                4181            54.0     1001.0  \n",
       "1                5799            57.0      977.0  \n",
       "2                5926            64.0      997.0  "
      ]
     },
     "execution_count": 62,
     "metadata": {},
     "output_type": "execute_result"
    }
   ],
   "source": [
    "## Calculating the Literatcy Rate\n",
    "\n",
    "final_df['Literate Ratio'] =  round(final_df['Literate'] / final_df['Population']*100)\n",
    "final_df.head(3)"
   ]
  },
  {
   "cell_type": "code",
   "execution_count": 72,
   "id": "39feac04",
   "metadata": {},
   "outputs": [
    {
     "data": {
      "text/plain": [
       "Index(['Population', 'Male', 'Female', 'Literate', 'Male_Literate',\n",
       "       'Female_Literate', 'Cultivator_Workers', 'Agricultural_Workers',\n",
       "       'Households_with_Internet', 'Housholds_with_Electric_Lighting',\n",
       "       'Having_latrine_facility_within_the_premises_Total_Households',\n",
       "       'Not_having_latrine_facility_within_the_premises_Alternative_source_Open_Households',\n",
       "       'Total_Power_Parity', 'Literate Ratio', 'Sex Ratio'],\n",
       "      dtype='object')"
      ]
     },
     "execution_count": 72,
     "metadata": {},
     "output_type": "execute_result"
    }
   ],
   "source": [
    "final_df.columns[5:]"
   ]
  },
  {
   "cell_type": "code",
   "execution_count": 69,
   "id": "0f45e647",
   "metadata": {},
   "outputs": [
    {
     "data": {
      "text/plain": [
       "['Overall India',\n",
       " 'Andhra Pradesh',\n",
       " 'Arunachal Pradesh',\n",
       " 'Assam',\n",
       " 'Bihar',\n",
       " 'Maharashtra',\n",
       " 'Chandigarh',\n",
       " 'Chhattisgarh',\n",
       " 'Himachal Pradesh',\n",
       " 'Daman and Diu',\n",
       " 'Gujarat',\n",
       " 'Goa',\n",
       " 'Haryana',\n",
       " 'Uttar Pradesh',\n",
       " 'Jammu and Kashmir',\n",
       " 'Jharkhand',\n",
       " 'Karnataka',\n",
       " 'Kerala',\n",
       " 'Madhya Pradesh',\n",
       " 'Manipur',\n",
       " 'Meghalaya',\n",
       " 'Mizoram',\n",
       " 'Nagaland',\n",
       " 'Orissa',\n",
       " 'Puducherry',\n",
       " 'Punjab',\n",
       " 'Rajasthan',\n",
       " 'Sikkim',\n",
       " 'Tamil Nadu',\n",
       " 'Tripura',\n",
       " 'Uttaranchal',\n",
       " 'West Bengal']"
      ]
     },
     "execution_count": 69,
     "metadata": {},
     "output_type": "execute_result"
    }
   ],
   "source": [
    "list_of_states = list(final_df['State'].unique())\n",
    "list_of_states.insert(0,'Overall India')\n",
    "list_of_states"
   ]
  },
  {
   "cell_type": "code",
   "execution_count": 73,
   "id": "4c169411",
   "metadata": {},
   "outputs": [
    {
     "data": {
      "text/plain": [
       "Index(['State', 'Latitude', 'Longitude', 'District code', 'District name',\n",
       "       'Population', 'Male', 'Female', 'Literate', 'Male_Literate',\n",
       "       'Female_Literate', 'Cultivator_Workers', 'Agricultural_Workers',\n",
       "       'Households_with_Internet', 'Housholds_with_Electric_Lighting',\n",
       "       'Having_latrine_facility_within_the_premises_Total_Households',\n",
       "       'Not_having_latrine_facility_within_the_premises_Alternative_source_Open_Households',\n",
       "       'Total_Power_Parity', 'Literate Ratio', 'Sex Ratio'],\n",
       "      dtype='object')"
      ]
     },
     "execution_count": 73,
     "metadata": {},
     "output_type": "execute_result"
    }
   ],
   "source": [
    "final_df.columns"
   ]
  },
  {
   "cell_type": "code",
   "execution_count": 79,
   "id": "db5a0fae",
   "metadata": {},
   "outputs": [
    {
     "name": "stdout",
     "output_type": "stream",
     "text": [
      "Requirement already satisfied: plotly in c:\\users\\060997744\\anaconda3\\lib\\site-packages (5.7.0)\n",
      "Requirement already satisfied: tenacity>=6.2.0 in c:\\users\\060997744\\anaconda3\\lib\\site-packages (from plotly) (8.0.1)\n",
      "Requirement already satisfied: six in c:\\users\\060997744\\anaconda3\\lib\\site-packages (from plotly) (1.16.0)\n"
     ]
    }
   ],
   "source": [
    "!pip install plotly"
   ]
  },
  {
   "cell_type": "code",
   "execution_count": 80,
   "id": "ee07f5a2",
   "metadata": {},
   "outputs": [],
   "source": [
    "import plotly.express as px"
   ]
  },
  {
   "cell_type": "code",
   "execution_count": 96,
   "id": "35dc2c72",
   "metadata": {},
   "outputs": [
    {
     "data": {
      "application/vnd.plotly.v1+json": {
       "config": {
        "plotlyServerURL": "https://plot.ly"
       },
       "data": [
        {
         "hovertemplate": "Latitude=%{lat}<br>Longitude=%{lon}<extra></extra>",
         "lat": [
          19.284513950073435,
          14.312065561843148,
          13.33109263067696,
          16.782718320784902,
          15.884925767634847,
          17.38971555555556,
          18.515483193277312,
          17.683921325051784,
          16.143872753151673,
          15.43759715142429,
          16.639546224256293,
          17.889304978038055,
          17.113250515463907,
          18.429485849056604,
          15.489039001601704,
          18.570900998697432,
          18.28329696032972,
          18.01752608695651,
          16.63297943925236,
          27.36048479338845,
          27.371194055944056,
          28.15382352941176,
          28.04853351800553,
          27.946785273972623,
          28.32651730103806,
          27.70849297297297,
          27.273529716981127,
          27.680683962264148,
          26.94406229508198,
          28.8309244897959,
          28.277196566523585,
          27.46486582278483,
          28.106296920289843,
          26.427872264631056,
          26.45012521994133,
          24.815570668693017,
          26.58463215962442,
          27.586533438485816,
          27.30612284482757,
          26.017277777777807,
          26.377219709794485,
          24.457496089385486,
          26.76244824016563,
          26.170939452054807,
          26.08966454598031,
          24.69660712250711,
          26.497246635730868,
          27.14128805970149,
          26.26462170626351,
          26.46323767605632,
          26.73514926829268,
          27.53549291139241,
          26.211528119180603,
          24.774291867469877,
          24.774291867469877,
          20.0979228832952,
          20.0979228832952,
          24.832355642023337,
          25.54302613168723,
          25.277192885375477,
          25.50666439393939,
          25.48593018867924,
          26.146187719298258,
          24.7266541547278,
          26.44874364161851,
          24.78418380462726,
          25.155679045643165,
          25.56565356037151,
          25.53558891454964,
          26.324336758321294,
          25.183449321266963,
          25.77341929460581,
          26.41380538172716,
          25.198537962962963,
          26.18664417177915,
          25.229345508982053,
          24.825708836206903,
          27.16064352201258,
          25.40297114503818,
          26.68129336734693,
          25.81714801901739,
          24.99170460829495,
          25.821270696721303,
          25.793205563909765,
          25.89656077844312,
          25.12472436548223,
          26.458380748663107,
          26.56570069686413,
          26.1736372013652,
          26.28157893772896,
          25.8134703180212,
          30.7426,
          19.393866751269048,
          22.356942982456143,
          22.356942982456143,
          31.3780422907489,
          31.3780422907489,
          20.554912627291245,
          21.194463849287164,
          22.77286167664669,
          22.491712499999995,
          23.50412776859501,
          21.223727037773354,
          22.008265068493166,
          22.008265068493166,
          18.453257637845976,
          18.453257637845976,
          20.88603153846152,
          23.32719278728607,
          20.431616666666677,
          20.72568199498111,
          20.929523011609785,
          15.548723418714054,
          15.195278658183785,
          22.605425564971743,
          21.04832649310872,
          22.282718206229863,
          24.258538965517253,
          21.75787276237761,
          21.70219390341736,
          23.193679790026252,
          22.410600414263328,
          23.48057203301311,
          22.88765312500002,
          23.529355452865065,
          21.70666386292833,
          20.866973318871995,
          22.80435606837605,
          23.80634198473284,
          21.55092351651571,
          22.40603377715488,
          23.71803594548552,
          21.25761372772093,
          22.82672007299272,
          20.801633877551023,
          22.26133739279589,
          20.44238231644259,
          30.3503672316384,
          28.728868064516128,
          28.14873109756098,
          29.57298318584072,
          28.043894789579163,
          29.23628731117825,
          28.59651868131869,
          29.45149821958457,
          29.96068539094649,
          29.703200647249204,
          30.05652659846548,
          28.1352161458333,
          30.700897142857134,
          29.34352134146342,
          28.19164714828897,
          28.892517647058817,
          29.63583446327684,
          32.66741814595661,
          31.67668481012659,
          31.67668481012659,
          25.738158381502892,
          25.738158381502892,
          32.14093603238864,
          31.60667184065933,
          31.90911922077925,
          31.635805940594054,
          31.155725451807253,
          30.682764453961443,
          31.03864311926604,
          31.58330388349513,
          33.359614675767915,
          32.713199095022645,
          33.565994894894914,
          32.51781678321678,
          33.88414418604652,
          33.791241290322574,
          34.27312898550724,
          33.04770670731707,
          23.6814965034965,
          24.11619945750453,
          24.33070100755672,
          23.854509090909097,
          24.275006125574265,
          24.082114689265527,
          24.30578509874329,
          24.8189,
          23.078532948929148,
          23.97873318077801,
          23.72511185840708,
          23.488796043165483,
          24.57260428082189,
          24.196925968109337,
          23.184235061391547,
          24.93667989690721,
          22.608760391198054,
          16.15860676328503,
          12.936827087794448,
          16.16107219152853,
          15.074377548209377,
          17.950361730769224,
          16.84015316666667,
          16.84015316666667,
          13.425288289676422,
          14.29102220394736,
          14.330414586709884,
          15.343831376975173,
          15.507128256880746,
          17.070459515951594,
          12.945098749999998,
          14.737582809224318,
          12.39684468085106,
          13.312799881235172,
          15.651253271028034,
          12.574901806239744,
          12.248100259403367,
          16.050795353982295,
          14.063845885634592,
          13.592467760074973,
          13.450404228534568,
          9.542602965599087,
          10.004879301987431,
          9.80480963855423,
          11.941523076923056,
          12.33310309912974,
          8.929388820570157,
          9.643701174068417,
          11.392924270557026,
          10.97329875666072,
          10.784926903553291,
          8.537101759082221,
          10.458932647907687,
          11.715277464788736,
          23.18184220430107,
          24.63098846153845,
          21.80020720640569,
          21.702135714285724,
          21.964626315789477,
          26.35951126187245,
          23.480726143790854,
          21.364567254408065,
          24.813637376460004,
          22.227966971713823,
          23.76624407960196,
          25.90226439560441,
          22.7851110021322,
          22.572681718963157,
          22.83738437047757,
          24.49043927178156,
          26.04074441964285,
          22.227659781121783,
          22.595268801996703,
          22.680265752128648,
          23.18525572327043,
          22.419578015397768,
          23.724416229116937,
          22.70348712446353,
          24.19278764044944,
          26.37313504531724,
          24.70311893333336,
          24.451325840092657,
          23.292518206521724,
          23.785499026425583,
          23.503562290502792,
          24.861184625158856,
          23.800318709677374,
          24.62777621776502,
          22.9297199679658,
          22.33230487804874,
          23.44859864559819,
          23.566620317220547,
          25.78014810996563,
          25.37802451874367,
          24.17547189952905,
          25.14099852104666,
          23.319288862745065,
          23.59601063063061,
          23.82838307984792,
          20.746310479041902,
          21.16520991810736,
          21.211792649727748,
          18.952353340080982,
          20.56680611183355,
          20.095609090909075,
          21.274018690400517,
          21.225008411214997,
          19.59525302245251,
          20.8828943415638,
          19.984612534818933,
          16.44881301587301,
          18.348687268993856,
          21.196556862745105,
          19.209316983017,
          21.523175625248147,
          20.266912871287143,
          18.19459456066944,
          19.31032425249168,
          18.51696171428573,
          17.210195070127703,
          17.154930181086502,
          17.6737908974359,
          16.170948049777163,
          17.837357937584812,
          19.698767747440264,
          20.80743024390242,
          20.282282394366213,
          20.04258346738159,
          24.50712111801243,
          24.2635812987013,
          24.30309718875504,
          25.08465586034914,
          24.98312942238265,
          24.545392553191498,
          25.05900314960629,
          25.82728228228228,
          25.303763888888884,
          25.33959557069844,
          25.240568578553614,
          25.495285185185185,
          25.500889926739926,
          23.90781335453101,
          23.54166580976866,
          24.2020004347826,
          22.36102843137253,
          23.007717036172675,
          23.73852942502819,
          22.35744801061008,
          23.263864705882344,
          25.814176811594223,
          25.60311428571428,
          26.478911764705888,
          26.69207374301676,
          25.63272986577182,
          26.21104453280316,
          26.202611551155112,
          26.028178205128206,
          21.48570932311624,
          20.95262735257214,
          20.407640646029623,
          20.79887159353349,
          19.121080882352945,
          19.2632617564534,
          21.827058566978184,
          19.784253092783523,
          20.092878624813142,
          20.606319815982264,
          20.054162322274863,
          18.82627794779476,
          18.25227930367506,
          21.897621545157754,
          20.192895622119817,
          20.471309512195116,
          19.83509174603177,
          19.292840020060204,
          21.515752380952385,
          22.06354819277107,
          10.876161726078813,
          12.006420793787758,
          16.707695652173904,
          31.548679820627772,
          30.190524611973352,
          30.591187250996025,
          30.64290947368421,
          30.63407535211269,
          32.04283371212125,
          31.55157169811319,
          31.250336907216507,
          31.336592638036837,
          30.76596397379912,
          29.919547714285724,
          30.756540067340065,
          30.31243303303303,
          30.214540380693364,
          30.910937330754347,
          30.185045204336895,
          26.199300378787903,
          27.55271738035265,
          23.453642032967014,
          24.98023243243244,
          25.77070908045978,
          27.32411858037578,
          25.45119767759564,
          28.12489068322981,
          25.48580716049379,
          24.631623761665463,
          28.29330375536484,
          26.91234817629181,
          26.72397054945053,
          23.75104807692308,
          29.256785412667963,
          29.1813351791531,
          27.033459290187885,
          26.86900838548185,
          25.07578093797277,
          24.24725541474657,
          28.13517401247401,
          26.678460838536967,
          26.51901555555556,
          25.175718080000014,
          27.07862016048146,
          25.80490393541874,
          25.24894767441859,
          26.251081180223288,
          27.64644058641976,
          24.7976905263158,
          26.153935071707927,
          24.44076752136749,
          27.29600352941175,
          11.190514836795256,
          13.058098905608748,
          10.871376995940452,
          11.57587300613498,
          12.300141200000006,
          10.377801390820574,
          11.267012155963302,
          12.496424756511884,
          8.183466300191206,
          10.79532776617955,
          9.904313833333331,
          10.789468161718286,
          11.33766638477801,
          11.260137758112096,
          10.130514816433578,
          9.31286995153476,
          11.629324202127655,
          9.960306580645158,
          10.387692255892237,
          9.924066666666668,
          13.275858101752885,
          10.368927409395978,
          12.419318947368414,
          12.784882632293078,
          9.468872195892564,
          23.781360477941163,
          24.121739755351683,
          23.211874098057383,
          23.780166241299337,
          26.99512974910393,
          27.93748576850093,
          25.392038662316445,
          26.39119025974028,
          26.66892394014961,
          26.008290954773837,
          29.045793499999988,
          27.691776300578027,
          25.86075638297873,
          27.449076537911324,
          25.351885902503284,
          26.922777025232424,
          28.51101940789474,
          26.833880454545447,
          29.313974259681096,
          28.34875862068968,
          25.1180859611231,
          25.159924623803,
          26.42218856548857,
          27.591155309734443,
          26.78817670157068,
          26.60589185185181,
          27.45063297872342,
          25.8374362030905,
          27.20963993055552,
          28.393311038961038,
          28.74997308584685,
          25.624724775583484,
          27.157215552099505,
          26.63315886792452,
          27.337409090909137,
          26.067954587155988,
          25.70141280913127,
          25.45581535234902,
          28.870498984771597,
          26.993988617886185,
          26.43047641196011,
          25.53587532051282,
          26.892530675909864,
          24.58877161016945,
          26.838233589251463,
          25.34529670138888,
          27.17386862302482,
          27.59390432801821,
          26.01082203791469,
          29.02957625698323,
          25.10207959183675,
          28.851770406189537,
          29.470507977736563,
          28.52024175035868,
          25.864842731707316,
          25.864842731707316,
          26.253902840059787,
          28.83244727272725,
          30.03381165217392,
          26.791596516393444,
          27.991389350649328,
          27.501995963091108,
          24.46693268858798,
          26.2846386419753,
          26.63163990895297,
          25.36057088888889,
          29.683532133676103,
          29.98703393393397,
          30.58338611464965,
          29.29142393939393,
          30.14720631868129,
          30.463700918635173,
          29.02779577677222,
          30.968958552036234,
          23.081280892857155,
          23.444453888888884,
          24.06389342723,
          25.342094363021435,
          26.839619571045585,
          22.401674174428507,
          22.87929264705881,
          26.62642031250004,
          22.550581481481483,
          25.08026802575105,
          24.25950655391121,
          23.56410971055088,
          23.254192328767108,
          26.044619165196977
         ],
         "legendgroup": "",
         "lon": [
          78.81321233480176,
          77.4601584478577,
          78.92763898886037,
          82.2432074720511,
          80.58657614107885,
          78.46668888888888,
          79.43765428571413,
          80.67008643892335,
          81.14805061000413,
          77.90086836581717,
          77.98933089244859,
          78.13778901903379,
          79.16984453608244,
          78.07523490566035,
          80.11665790176184,
          84.25874814010675,
          83.45982854198873,
          79.87422028985509,
          81.45912990654196,
          96.37552644628106,
          93.04741486013997,
          95.06499226006191,
          93.24531994459834,
          96.59670770547945,
          95.76567335640142,
          93.96226108108112,
          93.54468183962264,
          91.82504245283016,
          95.41470327868862,
          95.00155765306124,
          93.8991435622318,
          92.65015750452083,
          94.53510344202908,
          90.97912010178116,
          90.6734296187684,
          92.86849650455927,
          92.04141338028155,
          94.71336908517353,
          95.0998282327587,
          90.59869891598912,
          93.82583397823468,
          92.59154664804475,
          94.30197722567289,
          91.58863273972592,
          93.11536570271832,
          92.3679498575498,
          90.13997470997688,
          94.0775949253732,
          92.9306191144708,
          91.40598521126763,
          92.85197804878044,
          95.69055949367085,
          87.30766554934816,
          84.45986024096379,
          84.45986024096379,
          75.32072196796334,
          75.32072196796334,
          86.8664916342413,
          86.12560144032932,
          87.04213814229242,
          84.49407803030304,
          84.08808081760995,
          85.97387352472099,
          84.94291217765044,
          84.34636127167629,
          86.26316298200514,
          84.9208124481328,
          87.70466083591326,
          86.56593256351037,
          87.95045007235886,
          86.12825701357468,
          86.8978443983403,
          86.16328360450552,
          86.54173672839504,
          85.32745092024543,
          85.48053113772461,
          85.61594568965519,
          84.30265911949685,
          85.3198433587787,
          85.00382155612242,
          87.40447606973065,
          83.9350762672811,
          86.54670819672135,
          85.94833323308269,
          84.82266287425155,
          85.77839390862943,
          85.29539411764709,
          85.61172491289203,
          84.33766552901022,
          86.78496465201461,
          85.39247597173153,
          76.75872465753424,
          81.52895126903546,
          81.99770350877188,
          81.99770350877188,
          76.65316079295157,
          76.65316079295157,
          81.7569195519348,
          81.33181639511197,
          83.8703962075848,
          82.57604326923074,
          82.12515636363635,
          82.65925427435384,
          83.27797698630134,
          83.27797698630134,
          73.0090609418579,
          73.0090609418579,
          82.20032759615388,
          83.23582493887531,
          72.8392366071429,
          70.83985639899612,
          70.54733890140345,
          73.80667997909038,
          73.941792596877,
          72.23898135593227,
          71.43457637825426,
          72.57782051557454,
          71.93205252873561,
          72.67326346710801,
          72.16272632761141,
          72.67221679790026,
          69.62062005768233,
          68.82192301497916,
          73.018803515625,
          72.45545194085031,
          73.68403208722742,
          72.86184869848157,
          73.61984598290586,
          71.75162977099237,
          69.71896987722886,
          70.83679439383323,
          73.13638790459964,
          72.93488716344339,
          71.48358740875906,
          73.6883518367347,
          73.49433010291594,
          72.9148584798345,
          76.94970310734456,
          76.02110225806452,
          77.32718536585368,
          75.54608716814157,
          77.01935130260523,
          75.84324682779452,
          76.61137142857145,
          76.29598575667653,
          76.37698930041155,
          76.87488025889972,
          76.78774680306903,
          76.14018072916659,
          76.97173238095236,
          76.92895914634147,
          76.55956007604564,
          76.53123235294117,
          74.90970480225988,
          76.39354063116366,
          76.49767088607594,
          76.49767088607594,
          79.82619479768789,
          79.82619479768789,
          76.41205910931173,
          78.51613736263741,
          77.40922649350647,
          76.96556930693067,
          77.62573042168668,
          77.43184689507493,
          76.94442140672783,
          76.18353932038836,
          76.07163720136518,
          74.8477520361991,
          76.63675315315312,
          75.58901398601404,
          75.00921860465118,
          74.29593161290322,
          75.11021159420288,
          75.15286951219511,
          85.98398374125864,
          84.93295804701627,
          86.75697632241814,
          86.40372924901185,
          87.27662450229711,
          83.68664265536722,
          86.08710915619386,
          87.2941735483871,
          84.55056787479396,
          86.95325080091534,
          84.48298743362837,
          84.6605169064748,
          87.69691969178076,
          84.20310842824594,
          85.31781937244203,
          87.68264097938142,
          84.59193691931536,
          75.64526070853468,
          77.47369314775169,
          74.72329042357275,
          76.47228471074374,
          77.19459961538459,
          75.95909166666665,
          75.95909166666665,
          75.67626502311249,
          76.57821957236843,
          75.91723841166937,
          75.13831264108359,
          75.64861302752298,
          76.87503850385033,
          76.11049549999997,
          75.3961230607966,
          75.79336595744688,
          78.01376947743476,
          76.1617048598131,
          76.81570098522172,
          76.52881802853437,
          76.87368606194688,
          75.17882078103197,
          77.02297966260545,
          74.72009990316337,
          76.38010796263319,
          76.26957729035381,
          77.04586641566264,
          75.35209891725934,
          75.07768497134369,
          76.6360775852431,
          76.46059673302705,
          75.71158720159153,
          75.93910775606876,
          76.49980490693744,
          76.88711502868073,
          76.12321940836945,
          76.07587007042254,
          81.86560000000007,
          77.82974493927134,
          80.42170053380796,
          74.91004719710673,
          77.7873428189117,
          78.7618324287653,
          77.39246623093679,
          76.24460478589425,
          79.56449299191374,
          78.76413136439254,
          79.47049303482588,
          78.63916571428574,
          76.46088805970157,
          75.1105620736698,
          81.04332966714911,
          77.2235895968791,
          78.12782433035713,
          77.07022571819435,
          78.02168094841929,
          75.9133801324502,
          79.98328754716981,
          74.40921616766468,
          80.33819665871127,
          80.38600543633753,
          75.43588667736759,
          77.88447341389724,
          75.06608186666664,
          80.21133001158752,
          78.16305495923909,
          76.66431223922116,
          75.14895782122909,
          81.57572465057183,
          78.71940357771273,
          80.75547048710598,
          77.06780202883085,
          79.66053863928111,
          81.4596831828442,
          76.33555181268885,
          77.16911116838484,
          77.74861600810549,
          82.1053783359498,
          78.89357064846428,
          75.80383717647058,
          80.90879477477475,
          77.9013507604563,
          77.12122320359276,
          77.67583503184723,
          80.10950199637024,
          75.69319706477731,
          76.39017880364096,
          79.31556380471388,
          74.58719071837263,
          80.17522698598128,
          77.09239412780653,
          75.55140421810695,
          75.98473607242339,
          74.12897150793648,
          76.75812607802874,
          79.02166176470584,
          77.6829048951049,
          74.32638757443429,
          74.03824168316828,
          75.99495575313809,
          76.70163338870431,
          74.12922881632647,
          73.25725893866404,
          74.70713822937628,
          74.18052064102558,
          73.51329008172343,
          75.42394823609216,
          72.79882742564581,
          78.57259105691062,
          77.25502394366208,
          78.05326371760479,
          93.8246236024845,
          94.09443844155844,
          93.38671506024085,
          94.03366234413956,
          93.49450740072204,
          93.97959893617023,
          94.44129566929138,
          90.64684924924916,
          91.75922519841272,
          92.37608160136298,
          90.64560349127176,
          90.03709947089942,
          91.25364542124538,
          92.85359459459472,
          93.24221799485862,
          92.73470391304348,
          92.66964156862753,
          92.63512555425892,
          92.4330803833147,
          93.02827931034489,
          92.914158496732,
          93.75074057971014,
          93.78600657596373,
          94.522426006192,
          95.03072988826828,
          94.56814563758392,
          94.85809880715708,
          94.1990815181518,
          94.50026666666668,
          87.08085828011933,
          86.81496204516931,
          85.7776810228802,
          85.53226836027711,
          84.14015091911759,
          84.80297710437702,
          83.93581682242987,
          83.1124043814433,
          84.02216352765326,
          86.83763247572003,
          85.52234834123229,
          82.81278469846964,
          81.98293636363628,
          86.4030408052231,
          85.05614700460825,
          82.59152536585364,
          85.86698989898981,
          83.45860120361095,
          84.34958483245157,
          84.50524819277099,
          79.82369793621002,
          75.28275021570326,
          82.26187304347832,
          74.79883856502238,
          75.05685898004438,
          74.79751553784862,
          76.36208394736842,
          74.40245732394365,
          75.3204064393939,
          75.8469857442349,
          75.54400350515463,
          75.47641165644177,
          75.83110851528383,
          75.4304922857143,
          75.1600845117845,
          74.5518747747748,
          76.27505893949697,
          76.53743500967126,
          75.89437014178496,
          74.6990419191919,
          76.65359630562563,
          74.44246868131869,
          76.86210651828291,
          71.50297126436782,
          77.21752077244258,
          74.63947595628417,
          73.26943322981371,
          75.79984074074079,
          74.80010997846382,
          74.65846427038629,
          76.57342097264443,
          77.74476219780222,
          73.84765641025645,
          73.56192303262948,
          74.74632573289902,
          75.77117286012533,
          71.18371877346682,
          72.18647261724662,
          76.11242891705065,
          75.52840893970894,
          73.00450847457628,
          76.96081818181815,
          76.18618928000001,
          74.14215667001012,
          73.55285640766907,
          73.96570215946844,
          76.4219283891548,
          75.29317422839503,
          72.75309131578943,
          75.79192216427637,
          73.84029839743584,
          88.74908392156858,
          79.22249643916912,
          80.28139151846806,
          77.07619012178621,
          79.63002365371497,
          78.11509813333339,
          77.78011279554937,
          77.42034334862392,
          80.08820360135913,
          77.32053064053538,
          78.08749686847604,
          78.01366033333332,
          79.79437299431483,
          78.14624841437633,
          78.86034011799416,
          79.05444484265728,
          78.99185362412462,
          78.2478257978723,
          78.56535729032255,
          79.3194869107745,
          77.43458833333332,
          80.19724702864492,
          79.60322893959727,
          79.23265631578953,
          79.02643283582084,
          77.87641469194315,
          91.94654283088232,
          92.17842538226292,
          91.6065807585568,
          91.41310788863107,
          78.05278291517321,
          78.00146831119557,
          82.05172446982063,
          82.68282142857147,
          79.42637057356607,
          83.01220251256285,
          77.30266300000001,
          81.46779783237004,
          84.03651978723408,
          82.47158326180256,
          80.52487391304344,
          81.35762350597606,
          79.43187072368416,
          82.69790590909092,
          78.45098815489754,
          78.01082758620684,
          83.25307062634984,
          81.07666087551297,
          83.8244070686071,
          78.70021858407083,
          79.07621806282728,
          82.00783530864202,
          79.4406284574468,
          80.85416203090509,
          78.42660624999998,
          77.52462467532465,
          77.67441879350343,
          83.5360854578097,
          82.0226888024882,
          83.3549560377358,
          80.26411767676768,
          79.36686911314993,
          82.54315351934063,
          78.89954580536917,
          78.39009365482241,
          79.64437940379408,
          79.98710083056478,
          81.41811282051287,
          83.92261542461007,
          78.60082330508473,
          80.89706026871404,
          79.67863003472216,
          79.03501851015807,
          77.62153416856502,
          83.50582654028433,
          77.80611005586593,
          82.60126628571429,
          78.73580193423597,
          77.64017847866423,
          79.90103974175037,
          81.93530048780492,
          81.93530048780492,
          81.22260463378181,
          79.10977333333337,
          77.59905147826095,
          83.0387764344262,
          79.8302275324675,
          80.85288881199547,
          83.06816324951639,
          82.05710456790123,
          80.636773292868,
          82.82529666666672,
          79.50165064267351,
          79.83954354354357,
          79.56281095541402,
          80.07720212121217,
          80.34229230769236,
          78.48783792650917,
          79.45629004524895,
          78.56880615384617,
          87.12640053571437,
          87.8150581111111,
          87.65153089201888,
          88.69821679819614,
          88.33145067024122,
          87.99421176968654,
          88.00010264705891,
          89.04154375000003,
          88.3527648148148,
          88.17191684549356,
          88.16816860465121,
          88.58293034547152,
          86.3968532876713,
          88.23595232216337
         ],
         "marker": {
          "color": "#636efa"
         },
         "mode": "markers",
         "name": "",
         "showlegend": false,
         "subplot": "mapbox",
         "type": "scattermapbox"
        }
       ],
       "layout": {
        "legend": {
         "tracegroupgap": 0
        },
        "mapbox": {
         "center": {
          "lat": 23.3272320971834,
          "lon": 80.91021547921508
         },
         "domain": {
          "x": [
           0,
           1
          ],
          "y": [
           0,
           1
          ]
         },
         "style": "carto_position",
         "zoom": 1
        },
        "margin": {
         "t": 60
        },
        "template": {
         "data": {
          "bar": [
           {
            "error_x": {
             "color": "#2a3f5f"
            },
            "error_y": {
             "color": "#2a3f5f"
            },
            "marker": {
             "line": {
              "color": "#E5ECF6",
              "width": 0.5
             },
             "pattern": {
              "fillmode": "overlay",
              "size": 10,
              "solidity": 0.2
             }
            },
            "type": "bar"
           }
          ],
          "barpolar": [
           {
            "marker": {
             "line": {
              "color": "#E5ECF6",
              "width": 0.5
             },
             "pattern": {
              "fillmode": "overlay",
              "size": 10,
              "solidity": 0.2
             }
            },
            "type": "barpolar"
           }
          ],
          "carpet": [
           {
            "aaxis": {
             "endlinecolor": "#2a3f5f",
             "gridcolor": "white",
             "linecolor": "white",
             "minorgridcolor": "white",
             "startlinecolor": "#2a3f5f"
            },
            "baxis": {
             "endlinecolor": "#2a3f5f",
             "gridcolor": "white",
             "linecolor": "white",
             "minorgridcolor": "white",
             "startlinecolor": "#2a3f5f"
            },
            "type": "carpet"
           }
          ],
          "choropleth": [
           {
            "colorbar": {
             "outlinewidth": 0,
             "ticks": ""
            },
            "type": "choropleth"
           }
          ],
          "contour": [
           {
            "colorbar": {
             "outlinewidth": 0,
             "ticks": ""
            },
            "colorscale": [
             [
              0,
              "#0d0887"
             ],
             [
              0.1111111111111111,
              "#46039f"
             ],
             [
              0.2222222222222222,
              "#7201a8"
             ],
             [
              0.3333333333333333,
              "#9c179e"
             ],
             [
              0.4444444444444444,
              "#bd3786"
             ],
             [
              0.5555555555555556,
              "#d8576b"
             ],
             [
              0.6666666666666666,
              "#ed7953"
             ],
             [
              0.7777777777777778,
              "#fb9f3a"
             ],
             [
              0.8888888888888888,
              "#fdca26"
             ],
             [
              1,
              "#f0f921"
             ]
            ],
            "type": "contour"
           }
          ],
          "contourcarpet": [
           {
            "colorbar": {
             "outlinewidth": 0,
             "ticks": ""
            },
            "type": "contourcarpet"
           }
          ],
          "heatmap": [
           {
            "colorbar": {
             "outlinewidth": 0,
             "ticks": ""
            },
            "colorscale": [
             [
              0,
              "#0d0887"
             ],
             [
              0.1111111111111111,
              "#46039f"
             ],
             [
              0.2222222222222222,
              "#7201a8"
             ],
             [
              0.3333333333333333,
              "#9c179e"
             ],
             [
              0.4444444444444444,
              "#bd3786"
             ],
             [
              0.5555555555555556,
              "#d8576b"
             ],
             [
              0.6666666666666666,
              "#ed7953"
             ],
             [
              0.7777777777777778,
              "#fb9f3a"
             ],
             [
              0.8888888888888888,
              "#fdca26"
             ],
             [
              1,
              "#f0f921"
             ]
            ],
            "type": "heatmap"
           }
          ],
          "heatmapgl": [
           {
            "colorbar": {
             "outlinewidth": 0,
             "ticks": ""
            },
            "colorscale": [
             [
              0,
              "#0d0887"
             ],
             [
              0.1111111111111111,
              "#46039f"
             ],
             [
              0.2222222222222222,
              "#7201a8"
             ],
             [
              0.3333333333333333,
              "#9c179e"
             ],
             [
              0.4444444444444444,
              "#bd3786"
             ],
             [
              0.5555555555555556,
              "#d8576b"
             ],
             [
              0.6666666666666666,
              "#ed7953"
             ],
             [
              0.7777777777777778,
              "#fb9f3a"
             ],
             [
              0.8888888888888888,
              "#fdca26"
             ],
             [
              1,
              "#f0f921"
             ]
            ],
            "type": "heatmapgl"
           }
          ],
          "histogram": [
           {
            "marker": {
             "pattern": {
              "fillmode": "overlay",
              "size": 10,
              "solidity": 0.2
             }
            },
            "type": "histogram"
           }
          ],
          "histogram2d": [
           {
            "colorbar": {
             "outlinewidth": 0,
             "ticks": ""
            },
            "colorscale": [
             [
              0,
              "#0d0887"
             ],
             [
              0.1111111111111111,
              "#46039f"
             ],
             [
              0.2222222222222222,
              "#7201a8"
             ],
             [
              0.3333333333333333,
              "#9c179e"
             ],
             [
              0.4444444444444444,
              "#bd3786"
             ],
             [
              0.5555555555555556,
              "#d8576b"
             ],
             [
              0.6666666666666666,
              "#ed7953"
             ],
             [
              0.7777777777777778,
              "#fb9f3a"
             ],
             [
              0.8888888888888888,
              "#fdca26"
             ],
             [
              1,
              "#f0f921"
             ]
            ],
            "type": "histogram2d"
           }
          ],
          "histogram2dcontour": [
           {
            "colorbar": {
             "outlinewidth": 0,
             "ticks": ""
            },
            "colorscale": [
             [
              0,
              "#0d0887"
             ],
             [
              0.1111111111111111,
              "#46039f"
             ],
             [
              0.2222222222222222,
              "#7201a8"
             ],
             [
              0.3333333333333333,
              "#9c179e"
             ],
             [
              0.4444444444444444,
              "#bd3786"
             ],
             [
              0.5555555555555556,
              "#d8576b"
             ],
             [
              0.6666666666666666,
              "#ed7953"
             ],
             [
              0.7777777777777778,
              "#fb9f3a"
             ],
             [
              0.8888888888888888,
              "#fdca26"
             ],
             [
              1,
              "#f0f921"
             ]
            ],
            "type": "histogram2dcontour"
           }
          ],
          "mesh3d": [
           {
            "colorbar": {
             "outlinewidth": 0,
             "ticks": ""
            },
            "type": "mesh3d"
           }
          ],
          "parcoords": [
           {
            "line": {
             "colorbar": {
              "outlinewidth": 0,
              "ticks": ""
             }
            },
            "type": "parcoords"
           }
          ],
          "pie": [
           {
            "automargin": true,
            "type": "pie"
           }
          ],
          "scatter": [
           {
            "fillpattern": {
             "fillmode": "overlay",
             "size": 10,
             "solidity": 0.2
            },
            "type": "scatter"
           }
          ],
          "scatter3d": [
           {
            "line": {
             "colorbar": {
              "outlinewidth": 0,
              "ticks": ""
             }
            },
            "marker": {
             "colorbar": {
              "outlinewidth": 0,
              "ticks": ""
             }
            },
            "type": "scatter3d"
           }
          ],
          "scattercarpet": [
           {
            "marker": {
             "colorbar": {
              "outlinewidth": 0,
              "ticks": ""
             }
            },
            "type": "scattercarpet"
           }
          ],
          "scattergeo": [
           {
            "marker": {
             "colorbar": {
              "outlinewidth": 0,
              "ticks": ""
             }
            },
            "type": "scattergeo"
           }
          ],
          "scattergl": [
           {
            "marker": {
             "colorbar": {
              "outlinewidth": 0,
              "ticks": ""
             }
            },
            "type": "scattergl"
           }
          ],
          "scattermapbox": [
           {
            "marker": {
             "colorbar": {
              "outlinewidth": 0,
              "ticks": ""
             }
            },
            "type": "scattermapbox"
           }
          ],
          "scatterpolar": [
           {
            "marker": {
             "colorbar": {
              "outlinewidth": 0,
              "ticks": ""
             }
            },
            "type": "scatterpolar"
           }
          ],
          "scatterpolargl": [
           {
            "marker": {
             "colorbar": {
              "outlinewidth": 0,
              "ticks": ""
             }
            },
            "type": "scatterpolargl"
           }
          ],
          "scatterternary": [
           {
            "marker": {
             "colorbar": {
              "outlinewidth": 0,
              "ticks": ""
             }
            },
            "type": "scatterternary"
           }
          ],
          "surface": [
           {
            "colorbar": {
             "outlinewidth": 0,
             "ticks": ""
            },
            "colorscale": [
             [
              0,
              "#0d0887"
             ],
             [
              0.1111111111111111,
              "#46039f"
             ],
             [
              0.2222222222222222,
              "#7201a8"
             ],
             [
              0.3333333333333333,
              "#9c179e"
             ],
             [
              0.4444444444444444,
              "#bd3786"
             ],
             [
              0.5555555555555556,
              "#d8576b"
             ],
             [
              0.6666666666666666,
              "#ed7953"
             ],
             [
              0.7777777777777778,
              "#fb9f3a"
             ],
             [
              0.8888888888888888,
              "#fdca26"
             ],
             [
              1,
              "#f0f921"
             ]
            ],
            "type": "surface"
           }
          ],
          "table": [
           {
            "cells": {
             "fill": {
              "color": "#EBF0F8"
             },
             "line": {
              "color": "white"
             }
            },
            "header": {
             "fill": {
              "color": "#C8D4E3"
             },
             "line": {
              "color": "white"
             }
            },
            "type": "table"
           }
          ]
         },
         "layout": {
          "annotationdefaults": {
           "arrowcolor": "#2a3f5f",
           "arrowhead": 0,
           "arrowwidth": 1
          },
          "autotypenumbers": "strict",
          "coloraxis": {
           "colorbar": {
            "outlinewidth": 0,
            "ticks": ""
           }
          },
          "colorscale": {
           "diverging": [
            [
             0,
             "#8e0152"
            ],
            [
             0.1,
             "#c51b7d"
            ],
            [
             0.2,
             "#de77ae"
            ],
            [
             0.3,
             "#f1b6da"
            ],
            [
             0.4,
             "#fde0ef"
            ],
            [
             0.5,
             "#f7f7f7"
            ],
            [
             0.6,
             "#e6f5d0"
            ],
            [
             0.7,
             "#b8e186"
            ],
            [
             0.8,
             "#7fbc41"
            ],
            [
             0.9,
             "#4d9221"
            ],
            [
             1,
             "#276419"
            ]
           ],
           "sequential": [
            [
             0,
             "#0d0887"
            ],
            [
             0.1111111111111111,
             "#46039f"
            ],
            [
             0.2222222222222222,
             "#7201a8"
            ],
            [
             0.3333333333333333,
             "#9c179e"
            ],
            [
             0.4444444444444444,
             "#bd3786"
            ],
            [
             0.5555555555555556,
             "#d8576b"
            ],
            [
             0.6666666666666666,
             "#ed7953"
            ],
            [
             0.7777777777777778,
             "#fb9f3a"
            ],
            [
             0.8888888888888888,
             "#fdca26"
            ],
            [
             1,
             "#f0f921"
            ]
           ],
           "sequentialminus": [
            [
             0,
             "#0d0887"
            ],
            [
             0.1111111111111111,
             "#46039f"
            ],
            [
             0.2222222222222222,
             "#7201a8"
            ],
            [
             0.3333333333333333,
             "#9c179e"
            ],
            [
             0.4444444444444444,
             "#bd3786"
            ],
            [
             0.5555555555555556,
             "#d8576b"
            ],
            [
             0.6666666666666666,
             "#ed7953"
            ],
            [
             0.7777777777777778,
             "#fb9f3a"
            ],
            [
             0.8888888888888888,
             "#fdca26"
            ],
            [
             1,
             "#f0f921"
            ]
           ]
          },
          "colorway": [
           "#636efa",
           "#EF553B",
           "#00cc96",
           "#ab63fa",
           "#FFA15A",
           "#19d3f3",
           "#FF6692",
           "#B6E880",
           "#FF97FF",
           "#FECB52"
          ],
          "font": {
           "color": "#2a3f5f"
          },
          "geo": {
           "bgcolor": "white",
           "lakecolor": "white",
           "landcolor": "#E5ECF6",
           "showlakes": true,
           "showland": true,
           "subunitcolor": "white"
          },
          "hoverlabel": {
           "align": "left"
          },
          "hovermode": "closest",
          "mapbox": {
           "style": "light"
          },
          "paper_bgcolor": "white",
          "plot_bgcolor": "#E5ECF6",
          "polar": {
           "angularaxis": {
            "gridcolor": "white",
            "linecolor": "white",
            "ticks": ""
           },
           "bgcolor": "#E5ECF6",
           "radialaxis": {
            "gridcolor": "white",
            "linecolor": "white",
            "ticks": ""
           }
          },
          "scene": {
           "xaxis": {
            "backgroundcolor": "#E5ECF6",
            "gridcolor": "white",
            "gridwidth": 2,
            "linecolor": "white",
            "showbackground": true,
            "ticks": "",
            "zerolinecolor": "white"
           },
           "yaxis": {
            "backgroundcolor": "#E5ECF6",
            "gridcolor": "white",
            "gridwidth": 2,
            "linecolor": "white",
            "showbackground": true,
            "ticks": "",
            "zerolinecolor": "white"
           },
           "zaxis": {
            "backgroundcolor": "#E5ECF6",
            "gridcolor": "white",
            "gridwidth": 2,
            "linecolor": "white",
            "showbackground": true,
            "ticks": "",
            "zerolinecolor": "white"
           }
          },
          "shapedefaults": {
           "line": {
            "color": "#2a3f5f"
           }
          },
          "ternary": {
           "aaxis": {
            "gridcolor": "white",
            "linecolor": "white",
            "ticks": ""
           },
           "baxis": {
            "gridcolor": "white",
            "linecolor": "white",
            "ticks": ""
           },
           "bgcolor": "#E5ECF6",
           "caxis": {
            "gridcolor": "white",
            "linecolor": "white",
            "ticks": ""
           }
          },
          "title": {
           "x": 0.05
          },
          "xaxis": {
           "automargin": true,
           "gridcolor": "white",
           "linecolor": "white",
           "ticks": "",
           "title": {
            "standoff": 15
           },
           "zerolinecolor": "white",
           "zerolinewidth": 2
          },
          "yaxis": {
           "automargin": true,
           "gridcolor": "white",
           "linecolor": "white",
           "ticks": "",
           "title": {
            "standoff": 15
           },
           "zerolinecolor": "white",
           "zerolinewidth": 2
          }
         }
        }
       }
      },
      "text/html": [
       "<div>                            <div id=\"387bc9d9-5a2d-469d-9d00-61ec6cb27358\" class=\"plotly-graph-div\" style=\"height:525px; width:100%;\"></div>            <script type=\"text/javascript\">                require([\"plotly\"], function(Plotly) {                    window.PLOTLYENV=window.PLOTLYENV || {};                                    if (document.getElementById(\"387bc9d9-5a2d-469d-9d00-61ec6cb27358\")) {                    Plotly.newPlot(                        \"387bc9d9-5a2d-469d-9d00-61ec6cb27358\",                        [{\"hovertemplate\":\"Latitude=%{lat}<br>Longitude=%{lon}<extra></extra>\",\"lat\":[19.284513950073435,14.312065561843148,13.33109263067696,16.782718320784902,15.884925767634847,17.38971555555556,18.515483193277312,17.683921325051784,16.143872753151673,15.43759715142429,16.639546224256293,17.889304978038055,17.113250515463907,18.429485849056604,15.489039001601704,18.570900998697432,18.28329696032972,18.01752608695651,16.63297943925236,27.36048479338845,27.371194055944056,28.15382352941176,28.04853351800553,27.946785273972623,28.32651730103806,27.70849297297297,27.273529716981127,27.680683962264148,26.94406229508198,28.8309244897959,28.277196566523585,27.46486582278483,28.106296920289843,26.427872264631056,26.45012521994133,24.815570668693017,26.58463215962442,27.586533438485816,27.30612284482757,26.017277777777807,26.377219709794485,24.457496089385486,26.76244824016563,26.170939452054807,26.08966454598031,24.69660712250711,26.497246635730868,27.14128805970149,26.26462170626351,26.46323767605632,26.73514926829268,27.53549291139241,26.211528119180603,24.774291867469877,24.774291867469877,20.0979228832952,20.0979228832952,24.832355642023337,25.54302613168723,25.277192885375477,25.50666439393939,25.48593018867924,26.146187719298258,24.7266541547278,26.44874364161851,24.78418380462726,25.155679045643165,25.56565356037151,25.53558891454964,26.324336758321294,25.183449321266963,25.77341929460581,26.41380538172716,25.198537962962963,26.18664417177915,25.229345508982053,24.825708836206903,27.16064352201258,25.40297114503818,26.68129336734693,25.81714801901739,24.99170460829495,25.821270696721303,25.793205563909765,25.89656077844312,25.12472436548223,26.458380748663107,26.56570069686413,26.1736372013652,26.28157893772896,25.8134703180212,30.7426,19.393866751269048,22.356942982456143,22.356942982456143,31.3780422907489,31.3780422907489,20.554912627291245,21.194463849287164,22.77286167664669,22.491712499999995,23.50412776859501,21.223727037773354,22.008265068493166,22.008265068493166,18.453257637845976,18.453257637845976,20.88603153846152,23.32719278728607,20.431616666666677,20.72568199498111,20.929523011609785,15.548723418714054,15.195278658183785,22.605425564971743,21.04832649310872,22.282718206229863,24.258538965517253,21.75787276237761,21.70219390341736,23.193679790026252,22.410600414263328,23.48057203301311,22.88765312500002,23.529355452865065,21.70666386292833,20.866973318871995,22.80435606837605,23.80634198473284,21.55092351651571,22.40603377715488,23.71803594548552,21.25761372772093,22.82672007299272,20.801633877551023,22.26133739279589,20.44238231644259,30.3503672316384,28.728868064516128,28.14873109756098,29.57298318584072,28.043894789579163,29.23628731117825,28.59651868131869,29.45149821958457,29.96068539094649,29.703200647249204,30.05652659846548,28.1352161458333,30.700897142857134,29.34352134146342,28.19164714828897,28.892517647058817,29.63583446327684,32.66741814595661,31.67668481012659,31.67668481012659,25.738158381502892,25.738158381502892,32.14093603238864,31.60667184065933,31.90911922077925,31.635805940594054,31.155725451807253,30.682764453961443,31.03864311926604,31.58330388349513,33.359614675767915,32.713199095022645,33.565994894894914,32.51781678321678,33.88414418604652,33.791241290322574,34.27312898550724,33.04770670731707,23.6814965034965,24.11619945750453,24.33070100755672,23.854509090909097,24.275006125574265,24.082114689265527,24.30578509874329,24.8189,23.078532948929148,23.97873318077801,23.72511185840708,23.488796043165483,24.57260428082189,24.196925968109337,23.184235061391547,24.93667989690721,22.608760391198054,16.15860676328503,12.936827087794448,16.16107219152853,15.074377548209377,17.950361730769224,16.84015316666667,16.84015316666667,13.425288289676422,14.29102220394736,14.330414586709884,15.343831376975173,15.507128256880746,17.070459515951594,12.945098749999998,14.737582809224318,12.39684468085106,13.312799881235172,15.651253271028034,12.574901806239744,12.248100259403367,16.050795353982295,14.063845885634592,13.592467760074973,13.450404228534568,9.542602965599087,10.004879301987431,9.80480963855423,11.941523076923056,12.33310309912974,8.929388820570157,9.643701174068417,11.392924270557026,10.97329875666072,10.784926903553291,8.537101759082221,10.458932647907687,11.715277464788736,23.18184220430107,24.63098846153845,21.80020720640569,21.702135714285724,21.964626315789477,26.35951126187245,23.480726143790854,21.364567254408065,24.813637376460004,22.227966971713823,23.76624407960196,25.90226439560441,22.7851110021322,22.572681718963157,22.83738437047757,24.49043927178156,26.04074441964285,22.227659781121783,22.595268801996703,22.680265752128648,23.18525572327043,22.419578015397768,23.724416229116937,22.70348712446353,24.19278764044944,26.37313504531724,24.70311893333336,24.451325840092657,23.292518206521724,23.785499026425583,23.503562290502792,24.861184625158856,23.800318709677374,24.62777621776502,22.9297199679658,22.33230487804874,23.44859864559819,23.566620317220547,25.78014810996563,25.37802451874367,24.17547189952905,25.14099852104666,23.319288862745065,23.59601063063061,23.82838307984792,20.746310479041902,21.16520991810736,21.211792649727748,18.952353340080982,20.56680611183355,20.095609090909075,21.274018690400517,21.225008411214997,19.59525302245251,20.8828943415638,19.984612534818933,16.44881301587301,18.348687268993856,21.196556862745105,19.209316983017,21.523175625248147,20.266912871287143,18.19459456066944,19.31032425249168,18.51696171428573,17.210195070127703,17.154930181086502,17.6737908974359,16.170948049777163,17.837357937584812,19.698767747440264,20.80743024390242,20.282282394366213,20.04258346738159,24.50712111801243,24.2635812987013,24.30309718875504,25.08465586034914,24.98312942238265,24.545392553191498,25.05900314960629,25.82728228228228,25.303763888888884,25.33959557069844,25.240568578553614,25.495285185185185,25.500889926739926,23.90781335453101,23.54166580976866,24.2020004347826,22.36102843137253,23.007717036172675,23.73852942502819,22.35744801061008,23.263864705882344,25.814176811594223,25.60311428571428,26.478911764705888,26.69207374301676,25.63272986577182,26.21104453280316,26.202611551155112,26.028178205128206,21.48570932311624,20.95262735257214,20.407640646029623,20.79887159353349,19.121080882352945,19.2632617564534,21.827058566978184,19.784253092783523,20.092878624813142,20.606319815982264,20.054162322274863,18.82627794779476,18.25227930367506,21.897621545157754,20.192895622119817,20.471309512195116,19.83509174603177,19.292840020060204,21.515752380952385,22.06354819277107,10.876161726078813,12.006420793787758,16.707695652173904,31.548679820627772,30.190524611973352,30.591187250996025,30.64290947368421,30.63407535211269,32.04283371212125,31.55157169811319,31.250336907216507,31.336592638036837,30.76596397379912,29.919547714285724,30.756540067340065,30.31243303303303,30.214540380693364,30.910937330754347,30.185045204336895,26.199300378787903,27.55271738035265,23.453642032967014,24.98023243243244,25.77070908045978,27.32411858037578,25.45119767759564,28.12489068322981,25.48580716049379,24.631623761665463,28.29330375536484,26.91234817629181,26.72397054945053,23.75104807692308,29.256785412667963,29.1813351791531,27.033459290187885,26.86900838548185,25.07578093797277,24.24725541474657,28.13517401247401,26.678460838536967,26.51901555555556,25.175718080000014,27.07862016048146,25.80490393541874,25.24894767441859,26.251081180223288,27.64644058641976,24.7976905263158,26.153935071707927,24.44076752136749,27.29600352941175,11.190514836795256,13.058098905608748,10.871376995940452,11.57587300613498,12.300141200000006,10.377801390820574,11.267012155963302,12.496424756511884,8.183466300191206,10.79532776617955,9.904313833333331,10.789468161718286,11.33766638477801,11.260137758112096,10.130514816433578,9.31286995153476,11.629324202127655,9.960306580645158,10.387692255892237,9.924066666666668,13.275858101752885,10.368927409395978,12.419318947368414,12.784882632293078,9.468872195892564,23.781360477941163,24.121739755351683,23.211874098057383,23.780166241299337,26.99512974910393,27.93748576850093,25.392038662316445,26.39119025974028,26.66892394014961,26.008290954773837,29.045793499999988,27.691776300578027,25.86075638297873,27.449076537911324,25.351885902503284,26.922777025232424,28.51101940789474,26.833880454545447,29.313974259681096,28.34875862068968,25.1180859611231,25.159924623803,26.42218856548857,27.591155309734443,26.78817670157068,26.60589185185181,27.45063297872342,25.8374362030905,27.20963993055552,28.393311038961038,28.74997308584685,25.624724775583484,27.157215552099505,26.63315886792452,27.337409090909137,26.067954587155988,25.70141280913127,25.45581535234902,28.870498984771597,26.993988617886185,26.43047641196011,25.53587532051282,26.892530675909864,24.58877161016945,26.838233589251463,25.34529670138888,27.17386862302482,27.59390432801821,26.01082203791469,29.02957625698323,25.10207959183675,28.851770406189537,29.470507977736563,28.52024175035868,25.864842731707316,25.864842731707316,26.253902840059787,28.83244727272725,30.03381165217392,26.791596516393444,27.991389350649328,27.501995963091108,24.46693268858798,26.2846386419753,26.63163990895297,25.36057088888889,29.683532133676103,29.98703393393397,30.58338611464965,29.29142393939393,30.14720631868129,30.463700918635173,29.02779577677222,30.968958552036234,23.081280892857155,23.444453888888884,24.06389342723,25.342094363021435,26.839619571045585,22.401674174428507,22.87929264705881,26.62642031250004,22.550581481481483,25.08026802575105,24.25950655391121,23.56410971055088,23.254192328767108,26.044619165196977],\"legendgroup\":\"\",\"lon\":[78.81321233480176,77.4601584478577,78.92763898886037,82.2432074720511,80.58657614107885,78.46668888888888,79.43765428571413,80.67008643892335,81.14805061000413,77.90086836581717,77.98933089244859,78.13778901903379,79.16984453608244,78.07523490566035,80.11665790176184,84.25874814010675,83.45982854198873,79.87422028985509,81.45912990654196,96.37552644628106,93.04741486013997,95.06499226006191,93.24531994459834,96.59670770547945,95.76567335640142,93.96226108108112,93.54468183962264,91.82504245283016,95.41470327868862,95.00155765306124,93.8991435622318,92.65015750452083,94.53510344202908,90.97912010178116,90.6734296187684,92.86849650455927,92.04141338028155,94.71336908517353,95.0998282327587,90.59869891598912,93.82583397823468,92.59154664804475,94.30197722567289,91.58863273972592,93.11536570271832,92.3679498575498,90.13997470997688,94.0775949253732,92.9306191144708,91.40598521126763,92.85197804878044,95.69055949367085,87.30766554934816,84.45986024096379,84.45986024096379,75.32072196796334,75.32072196796334,86.8664916342413,86.12560144032932,87.04213814229242,84.49407803030304,84.08808081760995,85.97387352472099,84.94291217765044,84.34636127167629,86.26316298200514,84.9208124481328,87.70466083591326,86.56593256351037,87.95045007235886,86.12825701357468,86.8978443983403,86.16328360450552,86.54173672839504,85.32745092024543,85.48053113772461,85.61594568965519,84.30265911949685,85.3198433587787,85.00382155612242,87.40447606973065,83.9350762672811,86.54670819672135,85.94833323308269,84.82266287425155,85.77839390862943,85.29539411764709,85.61172491289203,84.33766552901022,86.78496465201461,85.39247597173153,76.75872465753424,81.52895126903546,81.99770350877188,81.99770350877188,76.65316079295157,76.65316079295157,81.7569195519348,81.33181639511197,83.8703962075848,82.57604326923074,82.12515636363635,82.65925427435384,83.27797698630134,83.27797698630134,73.0090609418579,73.0090609418579,82.20032759615388,83.23582493887531,72.8392366071429,70.83985639899612,70.54733890140345,73.80667997909038,73.941792596877,72.23898135593227,71.43457637825426,72.57782051557454,71.93205252873561,72.67326346710801,72.16272632761141,72.67221679790026,69.62062005768233,68.82192301497916,73.018803515625,72.45545194085031,73.68403208722742,72.86184869848157,73.61984598290586,71.75162977099237,69.71896987722886,70.83679439383323,73.13638790459964,72.93488716344339,71.48358740875906,73.6883518367347,73.49433010291594,72.9148584798345,76.94970310734456,76.02110225806452,77.32718536585368,75.54608716814157,77.01935130260523,75.84324682779452,76.61137142857145,76.29598575667653,76.37698930041155,76.87488025889972,76.78774680306903,76.14018072916659,76.97173238095236,76.92895914634147,76.55956007604564,76.53123235294117,74.90970480225988,76.39354063116366,76.49767088607594,76.49767088607594,79.82619479768789,79.82619479768789,76.41205910931173,78.51613736263741,77.40922649350647,76.96556930693067,77.62573042168668,77.43184689507493,76.94442140672783,76.18353932038836,76.07163720136518,74.8477520361991,76.63675315315312,75.58901398601404,75.00921860465118,74.29593161290322,75.11021159420288,75.15286951219511,85.98398374125864,84.93295804701627,86.75697632241814,86.40372924901185,87.27662450229711,83.68664265536722,86.08710915619386,87.2941735483871,84.55056787479396,86.95325080091534,84.48298743362837,84.6605169064748,87.69691969178076,84.20310842824594,85.31781937244203,87.68264097938142,84.59193691931536,75.64526070853468,77.47369314775169,74.72329042357275,76.47228471074374,77.19459961538459,75.95909166666665,75.95909166666665,75.67626502311249,76.57821957236843,75.91723841166937,75.13831264108359,75.64861302752298,76.87503850385033,76.11049549999997,75.3961230607966,75.79336595744688,78.01376947743476,76.1617048598131,76.81570098522172,76.52881802853437,76.87368606194688,75.17882078103197,77.02297966260545,74.72009990316337,76.38010796263319,76.26957729035381,77.04586641566264,75.35209891725934,75.07768497134369,76.6360775852431,76.46059673302705,75.71158720159153,75.93910775606876,76.49980490693744,76.88711502868073,76.12321940836945,76.07587007042254,81.86560000000007,77.82974493927134,80.42170053380796,74.91004719710673,77.7873428189117,78.7618324287653,77.39246623093679,76.24460478589425,79.56449299191374,78.76413136439254,79.47049303482588,78.63916571428574,76.46088805970157,75.1105620736698,81.04332966714911,77.2235895968791,78.12782433035713,77.07022571819435,78.02168094841929,75.9133801324502,79.98328754716981,74.40921616766468,80.33819665871127,80.38600543633753,75.43588667736759,77.88447341389724,75.06608186666664,80.21133001158752,78.16305495923909,76.66431223922116,75.14895782122909,81.57572465057183,78.71940357771273,80.75547048710598,77.06780202883085,79.66053863928111,81.4596831828442,76.33555181268885,77.16911116838484,77.74861600810549,82.1053783359498,78.89357064846428,75.80383717647058,80.90879477477475,77.9013507604563,77.12122320359276,77.67583503184723,80.10950199637024,75.69319706477731,76.39017880364096,79.31556380471388,74.58719071837263,80.17522698598128,77.09239412780653,75.55140421810695,75.98473607242339,74.12897150793648,76.75812607802874,79.02166176470584,77.6829048951049,74.32638757443429,74.03824168316828,75.99495575313809,76.70163338870431,74.12922881632647,73.25725893866404,74.70713822937628,74.18052064102558,73.51329008172343,75.42394823609216,72.79882742564581,78.57259105691062,77.25502394366208,78.05326371760479,93.8246236024845,94.09443844155844,93.38671506024085,94.03366234413956,93.49450740072204,93.97959893617023,94.44129566929138,90.64684924924916,91.75922519841272,92.37608160136298,90.64560349127176,90.03709947089942,91.25364542124538,92.85359459459472,93.24221799485862,92.73470391304348,92.66964156862753,92.63512555425892,92.4330803833147,93.02827931034489,92.914158496732,93.75074057971014,93.78600657596373,94.522426006192,95.03072988826828,94.56814563758392,94.85809880715708,94.1990815181518,94.50026666666668,87.08085828011933,86.81496204516931,85.7776810228802,85.53226836027711,84.14015091911759,84.80297710437702,83.93581682242987,83.1124043814433,84.02216352765326,86.83763247572003,85.52234834123229,82.81278469846964,81.98293636363628,86.4030408052231,85.05614700460825,82.59152536585364,85.86698989898981,83.45860120361095,84.34958483245157,84.50524819277099,79.82369793621002,75.28275021570326,82.26187304347832,74.79883856502238,75.05685898004438,74.79751553784862,76.36208394736842,74.40245732394365,75.3204064393939,75.8469857442349,75.54400350515463,75.47641165644177,75.83110851528383,75.4304922857143,75.1600845117845,74.5518747747748,76.27505893949697,76.53743500967126,75.89437014178496,74.6990419191919,76.65359630562563,74.44246868131869,76.86210651828291,71.50297126436782,77.21752077244258,74.63947595628417,73.26943322981371,75.79984074074079,74.80010997846382,74.65846427038629,76.57342097264443,77.74476219780222,73.84765641025645,73.56192303262948,74.74632573289902,75.77117286012533,71.18371877346682,72.18647261724662,76.11242891705065,75.52840893970894,73.00450847457628,76.96081818181815,76.18618928000001,74.14215667001012,73.55285640766907,73.96570215946844,76.4219283891548,75.29317422839503,72.75309131578943,75.79192216427637,73.84029839743584,88.74908392156858,79.22249643916912,80.28139151846806,77.07619012178621,79.63002365371497,78.11509813333339,77.78011279554937,77.42034334862392,80.08820360135913,77.32053064053538,78.08749686847604,78.01366033333332,79.79437299431483,78.14624841437633,78.86034011799416,79.05444484265728,78.99185362412462,78.2478257978723,78.56535729032255,79.3194869107745,77.43458833333332,80.19724702864492,79.60322893959727,79.23265631578953,79.02643283582084,77.87641469194315,91.94654283088232,92.17842538226292,91.6065807585568,91.41310788863107,78.05278291517321,78.00146831119557,82.05172446982063,82.68282142857147,79.42637057356607,83.01220251256285,77.30266300000001,81.46779783237004,84.03651978723408,82.47158326180256,80.52487391304344,81.35762350597606,79.43187072368416,82.69790590909092,78.45098815489754,78.01082758620684,83.25307062634984,81.07666087551297,83.8244070686071,78.70021858407083,79.07621806282728,82.00783530864202,79.4406284574468,80.85416203090509,78.42660624999998,77.52462467532465,77.67441879350343,83.5360854578097,82.0226888024882,83.3549560377358,80.26411767676768,79.36686911314993,82.54315351934063,78.89954580536917,78.39009365482241,79.64437940379408,79.98710083056478,81.41811282051287,83.92261542461007,78.60082330508473,80.89706026871404,79.67863003472216,79.03501851015807,77.62153416856502,83.50582654028433,77.80611005586593,82.60126628571429,78.73580193423597,77.64017847866423,79.90103974175037,81.93530048780492,81.93530048780492,81.22260463378181,79.10977333333337,77.59905147826095,83.0387764344262,79.8302275324675,80.85288881199547,83.06816324951639,82.05710456790123,80.636773292868,82.82529666666672,79.50165064267351,79.83954354354357,79.56281095541402,80.07720212121217,80.34229230769236,78.48783792650917,79.45629004524895,78.56880615384617,87.12640053571437,87.8150581111111,87.65153089201888,88.69821679819614,88.33145067024122,87.99421176968654,88.00010264705891,89.04154375000003,88.3527648148148,88.17191684549356,88.16816860465121,88.58293034547152,86.3968532876713,88.23595232216337],\"marker\":{\"color\":\"#636efa\"},\"mode\":\"markers\",\"name\":\"\",\"showlegend\":false,\"subplot\":\"mapbox\",\"type\":\"scattermapbox\"}],                        {\"template\":{\"data\":{\"histogram2dcontour\":[{\"type\":\"histogram2dcontour\",\"colorbar\":{\"outlinewidth\":0,\"ticks\":\"\"},\"colorscale\":[[0.0,\"#0d0887\"],[0.1111111111111111,\"#46039f\"],[0.2222222222222222,\"#7201a8\"],[0.3333333333333333,\"#9c179e\"],[0.4444444444444444,\"#bd3786\"],[0.5555555555555556,\"#d8576b\"],[0.6666666666666666,\"#ed7953\"],[0.7777777777777778,\"#fb9f3a\"],[0.8888888888888888,\"#fdca26\"],[1.0,\"#f0f921\"]]}],\"choropleth\":[{\"type\":\"choropleth\",\"colorbar\":{\"outlinewidth\":0,\"ticks\":\"\"}}],\"histogram2d\":[{\"type\":\"histogram2d\",\"colorbar\":{\"outlinewidth\":0,\"ticks\":\"\"},\"colorscale\":[[0.0,\"#0d0887\"],[0.1111111111111111,\"#46039f\"],[0.2222222222222222,\"#7201a8\"],[0.3333333333333333,\"#9c179e\"],[0.4444444444444444,\"#bd3786\"],[0.5555555555555556,\"#d8576b\"],[0.6666666666666666,\"#ed7953\"],[0.7777777777777778,\"#fb9f3a\"],[0.8888888888888888,\"#fdca26\"],[1.0,\"#f0f921\"]]}],\"heatmap\":[{\"type\":\"heatmap\",\"colorbar\":{\"outlinewidth\":0,\"ticks\":\"\"},\"colorscale\":[[0.0,\"#0d0887\"],[0.1111111111111111,\"#46039f\"],[0.2222222222222222,\"#7201a8\"],[0.3333333333333333,\"#9c179e\"],[0.4444444444444444,\"#bd3786\"],[0.5555555555555556,\"#d8576b\"],[0.6666666666666666,\"#ed7953\"],[0.7777777777777778,\"#fb9f3a\"],[0.8888888888888888,\"#fdca26\"],[1.0,\"#f0f921\"]]}],\"heatmapgl\":[{\"type\":\"heatmapgl\",\"colorbar\":{\"outlinewidth\":0,\"ticks\":\"\"},\"colorscale\":[[0.0,\"#0d0887\"],[0.1111111111111111,\"#46039f\"],[0.2222222222222222,\"#7201a8\"],[0.3333333333333333,\"#9c179e\"],[0.4444444444444444,\"#bd3786\"],[0.5555555555555556,\"#d8576b\"],[0.6666666666666666,\"#ed7953\"],[0.7777777777777778,\"#fb9f3a\"],[0.8888888888888888,\"#fdca26\"],[1.0,\"#f0f921\"]]}],\"contourcarpet\":[{\"type\":\"contourcarpet\",\"colorbar\":{\"outlinewidth\":0,\"ticks\":\"\"}}],\"contour\":[{\"type\":\"contour\",\"colorbar\":{\"outlinewidth\":0,\"ticks\":\"\"},\"colorscale\":[[0.0,\"#0d0887\"],[0.1111111111111111,\"#46039f\"],[0.2222222222222222,\"#7201a8\"],[0.3333333333333333,\"#9c179e\"],[0.4444444444444444,\"#bd3786\"],[0.5555555555555556,\"#d8576b\"],[0.6666666666666666,\"#ed7953\"],[0.7777777777777778,\"#fb9f3a\"],[0.8888888888888888,\"#fdca26\"],[1.0,\"#f0f921\"]]}],\"surface\":[{\"type\":\"surface\",\"colorbar\":{\"outlinewidth\":0,\"ticks\":\"\"},\"colorscale\":[[0.0,\"#0d0887\"],[0.1111111111111111,\"#46039f\"],[0.2222222222222222,\"#7201a8\"],[0.3333333333333333,\"#9c179e\"],[0.4444444444444444,\"#bd3786\"],[0.5555555555555556,\"#d8576b\"],[0.6666666666666666,\"#ed7953\"],[0.7777777777777778,\"#fb9f3a\"],[0.8888888888888888,\"#fdca26\"],[1.0,\"#f0f921\"]]}],\"mesh3d\":[{\"type\":\"mesh3d\",\"colorbar\":{\"outlinewidth\":0,\"ticks\":\"\"}}],\"scatter\":[{\"fillpattern\":{\"fillmode\":\"overlay\",\"size\":10,\"solidity\":0.2},\"type\":\"scatter\"}],\"parcoords\":[{\"type\":\"parcoords\",\"line\":{\"colorbar\":{\"outlinewidth\":0,\"ticks\":\"\"}}}],\"scatterpolargl\":[{\"type\":\"scatterpolargl\",\"marker\":{\"colorbar\":{\"outlinewidth\":0,\"ticks\":\"\"}}}],\"bar\":[{\"error_x\":{\"color\":\"#2a3f5f\"},\"error_y\":{\"color\":\"#2a3f5f\"},\"marker\":{\"line\":{\"color\":\"#E5ECF6\",\"width\":0.5},\"pattern\":{\"fillmode\":\"overlay\",\"size\":10,\"solidity\":0.2}},\"type\":\"bar\"}],\"scattergeo\":[{\"type\":\"scattergeo\",\"marker\":{\"colorbar\":{\"outlinewidth\":0,\"ticks\":\"\"}}}],\"scatterpolar\":[{\"type\":\"scatterpolar\",\"marker\":{\"colorbar\":{\"outlinewidth\":0,\"ticks\":\"\"}}}],\"histogram\":[{\"marker\":{\"pattern\":{\"fillmode\":\"overlay\",\"size\":10,\"solidity\":0.2}},\"type\":\"histogram\"}],\"scattergl\":[{\"type\":\"scattergl\",\"marker\":{\"colorbar\":{\"outlinewidth\":0,\"ticks\":\"\"}}}],\"scatter3d\":[{\"type\":\"scatter3d\",\"line\":{\"colorbar\":{\"outlinewidth\":0,\"ticks\":\"\"}},\"marker\":{\"colorbar\":{\"outlinewidth\":0,\"ticks\":\"\"}}}],\"scattermapbox\":[{\"type\":\"scattermapbox\",\"marker\":{\"colorbar\":{\"outlinewidth\":0,\"ticks\":\"\"}}}],\"scatterternary\":[{\"type\":\"scatterternary\",\"marker\":{\"colorbar\":{\"outlinewidth\":0,\"ticks\":\"\"}}}],\"scattercarpet\":[{\"type\":\"scattercarpet\",\"marker\":{\"colorbar\":{\"outlinewidth\":0,\"ticks\":\"\"}}}],\"carpet\":[{\"aaxis\":{\"endlinecolor\":\"#2a3f5f\",\"gridcolor\":\"white\",\"linecolor\":\"white\",\"minorgridcolor\":\"white\",\"startlinecolor\":\"#2a3f5f\"},\"baxis\":{\"endlinecolor\":\"#2a3f5f\",\"gridcolor\":\"white\",\"linecolor\":\"white\",\"minorgridcolor\":\"white\",\"startlinecolor\":\"#2a3f5f\"},\"type\":\"carpet\"}],\"table\":[{\"cells\":{\"fill\":{\"color\":\"#EBF0F8\"},\"line\":{\"color\":\"white\"}},\"header\":{\"fill\":{\"color\":\"#C8D4E3\"},\"line\":{\"color\":\"white\"}},\"type\":\"table\"}],\"barpolar\":[{\"marker\":{\"line\":{\"color\":\"#E5ECF6\",\"width\":0.5},\"pattern\":{\"fillmode\":\"overlay\",\"size\":10,\"solidity\":0.2}},\"type\":\"barpolar\"}],\"pie\":[{\"automargin\":true,\"type\":\"pie\"}]},\"layout\":{\"autotypenumbers\":\"strict\",\"colorway\":[\"#636efa\",\"#EF553B\",\"#00cc96\",\"#ab63fa\",\"#FFA15A\",\"#19d3f3\",\"#FF6692\",\"#B6E880\",\"#FF97FF\",\"#FECB52\"],\"font\":{\"color\":\"#2a3f5f\"},\"hovermode\":\"closest\",\"hoverlabel\":{\"align\":\"left\"},\"paper_bgcolor\":\"white\",\"plot_bgcolor\":\"#E5ECF6\",\"polar\":{\"bgcolor\":\"#E5ECF6\",\"angularaxis\":{\"gridcolor\":\"white\",\"linecolor\":\"white\",\"ticks\":\"\"},\"radialaxis\":{\"gridcolor\":\"white\",\"linecolor\":\"white\",\"ticks\":\"\"}},\"ternary\":{\"bgcolor\":\"#E5ECF6\",\"aaxis\":{\"gridcolor\":\"white\",\"linecolor\":\"white\",\"ticks\":\"\"},\"baxis\":{\"gridcolor\":\"white\",\"linecolor\":\"white\",\"ticks\":\"\"},\"caxis\":{\"gridcolor\":\"white\",\"linecolor\":\"white\",\"ticks\":\"\"}},\"coloraxis\":{\"colorbar\":{\"outlinewidth\":0,\"ticks\":\"\"}},\"colorscale\":{\"sequential\":[[0.0,\"#0d0887\"],[0.1111111111111111,\"#46039f\"],[0.2222222222222222,\"#7201a8\"],[0.3333333333333333,\"#9c179e\"],[0.4444444444444444,\"#bd3786\"],[0.5555555555555556,\"#d8576b\"],[0.6666666666666666,\"#ed7953\"],[0.7777777777777778,\"#fb9f3a\"],[0.8888888888888888,\"#fdca26\"],[1.0,\"#f0f921\"]],\"sequentialminus\":[[0.0,\"#0d0887\"],[0.1111111111111111,\"#46039f\"],[0.2222222222222222,\"#7201a8\"],[0.3333333333333333,\"#9c179e\"],[0.4444444444444444,\"#bd3786\"],[0.5555555555555556,\"#d8576b\"],[0.6666666666666666,\"#ed7953\"],[0.7777777777777778,\"#fb9f3a\"],[0.8888888888888888,\"#fdca26\"],[1.0,\"#f0f921\"]],\"diverging\":[[0,\"#8e0152\"],[0.1,\"#c51b7d\"],[0.2,\"#de77ae\"],[0.3,\"#f1b6da\"],[0.4,\"#fde0ef\"],[0.5,\"#f7f7f7\"],[0.6,\"#e6f5d0\"],[0.7,\"#b8e186\"],[0.8,\"#7fbc41\"],[0.9,\"#4d9221\"],[1,\"#276419\"]]},\"xaxis\":{\"gridcolor\":\"white\",\"linecolor\":\"white\",\"ticks\":\"\",\"title\":{\"standoff\":15},\"zerolinecolor\":\"white\",\"automargin\":true,\"zerolinewidth\":2},\"yaxis\":{\"gridcolor\":\"white\",\"linecolor\":\"white\",\"ticks\":\"\",\"title\":{\"standoff\":15},\"zerolinecolor\":\"white\",\"automargin\":true,\"zerolinewidth\":2},\"scene\":{\"xaxis\":{\"backgroundcolor\":\"#E5ECF6\",\"gridcolor\":\"white\",\"linecolor\":\"white\",\"showbackground\":true,\"ticks\":\"\",\"zerolinecolor\":\"white\",\"gridwidth\":2},\"yaxis\":{\"backgroundcolor\":\"#E5ECF6\",\"gridcolor\":\"white\",\"linecolor\":\"white\",\"showbackground\":true,\"ticks\":\"\",\"zerolinecolor\":\"white\",\"gridwidth\":2},\"zaxis\":{\"backgroundcolor\":\"#E5ECF6\",\"gridcolor\":\"white\",\"linecolor\":\"white\",\"showbackground\":true,\"ticks\":\"\",\"zerolinecolor\":\"white\",\"gridwidth\":2}},\"shapedefaults\":{\"line\":{\"color\":\"#2a3f5f\"}},\"annotationdefaults\":{\"arrowcolor\":\"#2a3f5f\",\"arrowhead\":0,\"arrowwidth\":1},\"geo\":{\"bgcolor\":\"white\",\"landcolor\":\"#E5ECF6\",\"subunitcolor\":\"white\",\"showland\":true,\"showlakes\":true,\"lakecolor\":\"white\"},\"title\":{\"x\":0.05},\"mapbox\":{\"style\":\"light\"}}},\"mapbox\":{\"domain\":{\"x\":[0.0,1.0],\"y\":[0.0,1.0]},\"center\":{\"lat\":23.3272320971834,\"lon\":80.91021547921508},\"zoom\":1,\"style\":\"carto_position\"},\"legend\":{\"tracegroupgap\":0},\"margin\":{\"t\":60}},                        {\"responsive\": true}                    ).then(function(){\n",
       "                            \n",
       "var gd = document.getElementById('387bc9d9-5a2d-469d-9d00-61ec6cb27358');\n",
       "var x = new MutationObserver(function (mutations, observer) {{\n",
       "        var display = window.getComputedStyle(gd).display;\n",
       "        if (!display || display === 'none') {{\n",
       "            console.log([gd, 'removed!']);\n",
       "            Plotly.purge(gd);\n",
       "            observer.disconnect();\n",
       "        }}\n",
       "}});\n",
       "\n",
       "// Listen for the removal of the full notebook cells\n",
       "var notebookContainer = gd.closest('#notebook-container');\n",
       "if (notebookContainer) {{\n",
       "    x.observe(notebookContainer, {childList: true});\n",
       "}}\n",
       "\n",
       "// Listen for the clearing of the current output cell\n",
       "var outputEl = gd.closest('.output');\n",
       "if (outputEl) {{\n",
       "    x.observe(outputEl, {childList: true});\n",
       "}}\n",
       "\n",
       "                        })                };                });            </script>        </div>"
      ]
     },
     "metadata": {},
     "output_type": "display_data"
    }
   ],
   "source": [
    "\n",
    "\n",
    "df = px.data.carshare()\n",
    "\n",
    "fig = px.scatter_mapbox(final_df, lat=\"Latitude\", lon=\"Longitude\",zoom=1,\n",
    "                                  mapbox_style=\"carto_position\" )\n",
    "\n",
    "fig.show()\n"
   ]
  },
  {
   "cell_type": "code",
   "execution_count": null,
   "id": "80e0fd8c",
   "metadata": {},
   "outputs": [],
   "source": []
  },
  {
   "cell_type": "code",
   "execution_count": null,
   "id": "cc747856",
   "metadata": {},
   "outputs": [],
   "source": []
  },
  {
   "cell_type": "code",
   "execution_count": null,
   "id": "e9b7ddfb",
   "metadata": {},
   "outputs": [],
   "source": []
  },
  {
   "cell_type": "code",
   "execution_count": null,
   "id": "bbe921d8",
   "metadata": {},
   "outputs": [],
   "source": []
  },
  {
   "cell_type": "code",
   "execution_count": null,
   "id": "8488b185",
   "metadata": {},
   "outputs": [],
   "source": []
  },
  {
   "cell_type": "code",
   "execution_count": null,
   "id": "c8ae7b14",
   "metadata": {},
   "outputs": [],
   "source": []
  },
  {
   "cell_type": "code",
   "execution_count": null,
   "id": "b463f2ea",
   "metadata": {},
   "outputs": [],
   "source": []
  },
  {
   "cell_type": "code",
   "execution_count": null,
   "id": "caf95e0d",
   "metadata": {},
   "outputs": [],
   "source": []
  },
  {
   "cell_type": "code",
   "execution_count": null,
   "id": "99f74016",
   "metadata": {},
   "outputs": [],
   "source": []
  },
  {
   "cell_type": "code",
   "execution_count": null,
   "id": "c4db2411",
   "metadata": {},
   "outputs": [],
   "source": []
  },
  {
   "cell_type": "code",
   "execution_count": null,
   "id": "8500642f",
   "metadata": {},
   "outputs": [],
   "source": []
  },
  {
   "cell_type": "code",
   "execution_count": null,
   "id": "5afb1430",
   "metadata": {},
   "outputs": [],
   "source": []
  },
  {
   "cell_type": "code",
   "execution_count": null,
   "id": "54e28ab7",
   "metadata": {},
   "outputs": [],
   "source": []
  },
  {
   "cell_type": "code",
   "execution_count": null,
   "id": "ea515baf",
   "metadata": {},
   "outputs": [],
   "source": []
  },
  {
   "cell_type": "code",
   "execution_count": null,
   "id": "4a1974ba",
   "metadata": {},
   "outputs": [],
   "source": []
  },
  {
   "cell_type": "code",
   "execution_count": null,
   "id": "f7c29794",
   "metadata": {},
   "outputs": [],
   "source": []
  },
  {
   "cell_type": "code",
   "execution_count": null,
   "id": "68b22029",
   "metadata": {},
   "outputs": [],
   "source": []
  },
  {
   "cell_type": "code",
   "execution_count": null,
   "id": "133bb791",
   "metadata": {},
   "outputs": [],
   "source": []
  },
  {
   "cell_type": "code",
   "execution_count": null,
   "id": "f38e5a14",
   "metadata": {},
   "outputs": [],
   "source": []
  }
 ],
 "metadata": {
  "kernelspec": {
   "display_name": "Python 3 (ipykernel)",
   "language": "python",
   "name": "python3"
  },
  "language_info": {
   "codemirror_mode": {
    "name": "ipython",
    "version": 3
   },
   "file_extension": ".py",
   "mimetype": "text/x-python",
   "name": "python",
   "nbconvert_exporter": "python",
   "pygments_lexer": "ipython3",
   "version": "3.9.7"
  }
 },
 "nbformat": 4,
 "nbformat_minor": 5
}
